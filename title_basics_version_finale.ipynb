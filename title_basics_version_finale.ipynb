{
  "cells": [
    {
      "cell_type": "markdown",
      "metadata": {
        "id": "view-in-github",
        "colab_type": "text"
      },
      "source": [
        "<a href=\"https://colab.research.google.com/github/AlexisSchockaert/Projet_2_Film/blob/Branche_Alexis/title_basics_version_finale.ipynb\" target=\"_parent\"><img src=\"https://colab.research.google.com/assets/colab-badge.svg\" alt=\"Open In Colab\"/></a>"
      ]
    },
    {
      "cell_type": "code",
      "execution_count": null,
      "metadata": {
        "colab": {
          "base_uri": "https://localhost:8080/"
        },
        "id": "TVqmIt844AHO",
        "outputId": "2f7978ee-b98f-4f87-8774-8327f1297a35"
      },
      "outputs": [
        {
          "output_type": "stream",
          "name": "stdout",
          "text": [
            "Mounted at /content/drive\n"
          ]
        }
      ],
      "source": [
        "from google.colab import drive\n",
        "drive.mount('/content/drive')"
      ]
    },
    {
      "cell_type": "code",
      "execution_count": null,
      "metadata": {
        "id": "qF65l6JYIWyc"
      },
      "outputs": [],
      "source": [
        "import pandas as pd"
      ]
    },
    {
      "cell_type": "code",
      "execution_count": null,
      "metadata": {
        "colab": {
          "base_uri": "https://localhost:8080/"
        },
        "id": "X0XmGAmz61Th",
        "outputId": "69262d3e-86af-49ae-e143-2b59eb787efa"
      },
      "outputs": [
        {
          "output_type": "stream",
          "name": "stderr",
          "text": [
            "/usr/local/lib/python3.7/dist-packages/IPython/core/interactiveshell.py:3326: DtypeWarning: Columns (4) have mixed types.Specify dtype option on import or set low_memory=False.\n",
            "  exec(code_obj, self.user_global_ns, self.user_ns)\n"
          ]
        },
        {
          "output_type": "stream",
          "name": "stdout",
          "text": [
            "|    | tconst    | titleType   | primaryTitle           | originalTitle          |   isAdult |   startYear | endYear   |   runtimeMinutes | genres                   |\n",
            "|---:|:----------|:------------|:-----------------------|:-----------------------|----------:|------------:|:----------|-----------------:|:-------------------------|\n",
            "|  0 | tt0000001 | short       | Carmencita             | Carmencita             |         0 |        1894 | \\N        |                1 | Documentary,Short        |\n",
            "|  1 | tt0000002 | short       | Le clown et ses chiens | Le clown et ses chiens |         0 |        1892 | \\N        |                5 | Animation,Short          |\n",
            "|  2 | tt0000003 | short       | Pauvre Pierrot         | Pauvre Pierrot         |         0 |        1892 | \\N        |                4 | Animation,Comedy,Romance |\n",
            "|  3 | tt0000004 | short       | Un bon bock            | Un bon bock            |         0 |        1892 | \\N        |               12 | Animation,Short          |\n",
            "|  4 | tt0000005 | short       | Blacksmith Scene       | Blacksmith Scene       |         0 |        1893 | \\N        |                1 | Comedy,Short             |\n"
          ]
        }
      ],
      "source": [
        "df_title_Basics = pd.read_csv(\"https://datasets.imdbws.com/title.basics.tsv.gz\", sep = \"\\t\")\n",
        "print(df_title_Basics.head().to_markdown())"
      ]
    },
    {
      "cell_type": "code",
      "execution_count": null,
      "metadata": {
        "id": "warkcGZ1yIMk"
      },
      "outputs": [],
      "source": [
        "# Remplacer \"\\N\" par \"None\" dans la série \"startYear\"\n",
        "df_title_Basics['startYear'].replace({r'\\N': None},inplace =True)"
      ]
    },
    {
      "cell_type": "code",
      "execution_count": null,
      "metadata": {
        "id": "MnwiE_0ZzKla"
      },
      "outputs": [],
      "source": [
        "# Créer un df à partir du précédent en ne conservant que les données non nulles de la colonnes \"startYear\" \n",
        "df_title_Basics2=df_title_Basics[pd.notnull(df_title_Basics['startYear'])]"
      ]
    },
    {
      "cell_type": "code",
      "execution_count": null,
      "metadata": {
        "colab": {
          "base_uri": "https://localhost:8080/"
        },
        "id": "G0nVZsqqMczc",
        "outputId": "53d741d6-7698-44c6-8074-992580032d3d"
      },
      "outputs": [
        {
          "output_type": "execute_result",
          "data": {
            "text/plain": [
              "2021    434107\n",
              "2018    423667\n",
              "2017    420426\n",
              "2019    412271\n",
              "2016    398875\n",
              "         ...  \n",
              "1882         2\n",
              "1881         2\n",
              "1874         1\n",
              "1883         1\n",
              "1885         1\n",
              "Name: startYear, Length: 150, dtype: int64"
            ]
          },
          "metadata": {},
          "execution_count": 6
        }
      ],
      "source": [
        "df_title_Basics2['startYear'].value_counts()"
      ]
    },
    {
      "cell_type": "code",
      "execution_count": null,
      "metadata": {
        "colab": {
          "base_uri": "https://localhost:8080/"
        },
        "id": "OVMKpTTHzdX8",
        "outputId": "6563762b-e1be-4798-e524-221fbb40367a"
      },
      "outputs": [
        {
          "output_type": "stream",
          "name": "stdout",
          "text": [
            "|    | tconst    | titleType   | primaryTitle           | originalTitle          |   isAdult |   startYear | endYear   |   runtimeMinutes | genres                   |\n",
            "|---:|:----------|:------------|:-----------------------|:-----------------------|----------:|------------:|:----------|-----------------:|:-------------------------|\n",
            "|  0 | tt0000001 | short       | Carmencita             | Carmencita             |         0 |        1894 | \\N        |                1 | Documentary,Short        |\n",
            "|  1 | tt0000002 | short       | Le clown et ses chiens | Le clown et ses chiens |         0 |        1892 | \\N        |                5 | Animation,Short          |\n",
            "|  2 | tt0000003 | short       | Pauvre Pierrot         | Pauvre Pierrot         |         0 |        1892 | \\N        |                4 | Animation,Comedy,Romance |\n",
            "|  3 | tt0000004 | short       | Un bon bock            | Un bon bock            |         0 |        1892 | \\N        |               12 | Animation,Short          |\n",
            "|  4 | tt0000005 | short       | Blacksmith Scene       | Blacksmith Scene       |         0 |        1893 | \\N        |                1 | Comedy,Short             |\n"
          ]
        }
      ],
      "source": [
        "print(df_title_Basics2.head().to_markdown())"
      ]
    },
    {
      "cell_type": "code",
      "execution_count": null,
      "metadata": {
        "colab": {
          "base_uri": "https://localhost:8080/"
        },
        "id": "QlQAAoo1V8QG",
        "outputId": "9e7e5f3f-465d-4d11-d5b1-08e5a858d2b9"
      },
      "outputs": [
        {
          "output_type": "stream",
          "name": "stderr",
          "text": [
            "/usr/local/lib/python3.7/dist-packages/ipykernel_launcher.py:2: SettingWithCopyWarning: \n",
            "A value is trying to be set on a copy of a slice from a DataFrame.\n",
            "Try using .loc[row_indexer,col_indexer] = value instead\n",
            "\n",
            "See the caveats in the documentation: https://pandas.pydata.org/pandas-docs/stable/user_guide/indexing.html#returning-a-view-versus-a-copy\n",
            "  \n"
          ]
        }
      ],
      "source": [
        "# Transformer les données de la colonne \"startYear\" en int\n",
        "df_title_Basics2['startYear'] = df_title_Basics2['startYear'].astype(int)"
      ]
    },
    {
      "cell_type": "code",
      "execution_count": null,
      "metadata": {
        "colab": {
          "base_uri": "https://localhost:8080/"
        },
        "id": "t_y4xT3QckaS",
        "outputId": "42dc9bcb-845d-460e-8405-5f20f895069b"
      },
      "outputs": [
        {
          "output_type": "stream",
          "name": "stderr",
          "text": [
            "/usr/local/lib/python3.7/dist-packages/pandas/core/generic.py:6619: SettingWithCopyWarning: \n",
            "A value is trying to be set on a copy of a slice from a DataFrame\n",
            "\n",
            "See the caveats in the documentation: https://pandas.pydata.org/pandas-docs/stable/user_guide/indexing.html#returning-a-view-versus-a-copy\n",
            "  return self._update_inplace(result)\n"
          ]
        }
      ],
      "source": [
        "# Remplacer \"\\N\" par \"None\" dans la série \"startYear\"\n",
        "df_title_Basics2['runtimeMinutes'].replace({r\"\\N\" : None}, inplace = True)"
      ]
    },
    {
      "cell_type": "code",
      "execution_count": null,
      "metadata": {
        "id": "tgKC5aUUgP6_"
      },
      "outputs": [],
      "source": [
        "# Créer un df à partir du précédent en ne conservant que les données non nulles de la colonnes \"runtimeMinutes\" \n",
        "df_title_Basics3 = df_title_Basics2[pd.notnull(df_title_Basics2['runtimeMinutes'])]\n"
      ]
    },
    {
      "cell_type": "code",
      "execution_count": null,
      "metadata": {
        "colab": {
          "base_uri": "https://localhost:8080/"
        },
        "id": "ZYOthGz1u7y3",
        "outputId": "9dee6669-369a-4d08-ef01-cd586a9e2860"
      },
      "outputs": [
        {
          "output_type": "stream",
          "name": "stderr",
          "text": [
            "/usr/local/lib/python3.7/dist-packages/ipykernel_launcher.py:2: SettingWithCopyWarning: \n",
            "A value is trying to be set on a copy of a slice from a DataFrame.\n",
            "Try using .loc[row_indexer,col_indexer] = value instead\n",
            "\n",
            "See the caveats in the documentation: https://pandas.pydata.org/pandas-docs/stable/user_guide/indexing.html#returning-a-view-versus-a-copy\n",
            "  \n"
          ]
        }
      ],
      "source": [
        "# Transformer les données de la colonne \"runtimeMinutes\" en int\n",
        "df_title_Basics3['runtimeMinutes'] = df_title_Basics3['runtimeMinutes'].astype(int)"
      ]
    },
    {
      "cell_type": "code",
      "execution_count": null,
      "metadata": {
        "colab": {
          "base_uri": "https://localhost:8080/"
        },
        "id": "eGxUEvR5aqRB",
        "outputId": "22f46a34-a872-418b-9720-e5d0124794c8"
      },
      "outputs": [
        {
          "output_type": "stream",
          "name": "stdout",
          "text": [
            "<class 'pandas.core.frame.DataFrame'>\n",
            "Int64Index: 2478655 entries, 0 to 9313428\n",
            "Data columns (total 9 columns):\n",
            " #   Column          Dtype \n",
            "---  ------          ----- \n",
            " 0   tconst          object\n",
            " 1   titleType       object\n",
            " 2   primaryTitle    object\n",
            " 3   originalTitle   object\n",
            " 4   isAdult         object\n",
            " 5   startYear       int64 \n",
            " 6   endYear         object\n",
            " 7   runtimeMinutes  int64 \n",
            " 8   genres          object\n",
            "dtypes: int64(2), object(7)\n",
            "memory usage: 189.1+ MB\n"
          ]
        }
      ],
      "source": [
        "df_title_Basics3.info()"
      ]
    },
    {
      "cell_type": "code",
      "execution_count": null,
      "metadata": {
        "id": "oqMXW4jF-5Wh"
      },
      "outputs": [],
      "source": [
        "# Remplacer \"\\N\" par \"None\" dans la série \"startYear\"\n",
        "df_title_Basics3['isAdult'].replace({r'\\N': None},inplace =True)"
      ]
    },
    {
      "cell_type": "code",
      "execution_count": null,
      "metadata": {
        "id": "UZdvCV8Z-_Pr"
      },
      "outputs": [],
      "source": [
        "# Créer un df à partir du précédent en ne conservant que les données non nulles de la colonnes \"isAdult\" \n",
        "df_title_Basics4=df_title_Basics3[pd.notnull(df_title_Basics3['isAdult'])]\n"
      ]
    },
    {
      "cell_type": "code",
      "execution_count": null,
      "metadata": {
        "id": "nc1sfgf0MNMb"
      },
      "outputs": [],
      "source": [
        "df_title_Basics5 = df_title_Basics4[df_title_Basics4['isAdult']==False]"
      ]
    },
    {
      "cell_type": "code",
      "execution_count": null,
      "metadata": {
        "colab": {
          "base_uri": "https://localhost:8080/"
        },
        "id": "vBuOy-JnYDYp",
        "outputId": "41eaaf4d-20c3-4dc0-f415-12343d48202a"
      },
      "outputs": [
        {
          "output_type": "stream",
          "name": "stdout",
          "text": [
            "      tconst titleType            primaryTitle           originalTitle  \\\n",
            "0  tt0000001     short              Carmencita              Carmencita   \n",
            "1  tt0000002     short  Le clown et ses chiens  Le clown et ses chiens   \n",
            "2  tt0000003     short          Pauvre Pierrot          Pauvre Pierrot   \n",
            "3  tt0000004     short             Un bon bock             Un bon bock   \n",
            "4  tt0000005     short        Blacksmith Scene        Blacksmith Scene   \n",
            "\n",
            "  isAdult  startYear endYear  runtimeMinutes                    genres  \n",
            "0       0       1894      \\N               1         Documentary,Short  \n",
            "1       0       1892      \\N               5           Animation,Short  \n",
            "2       0       1892      \\N               4  Animation,Comedy,Romance  \n",
            "3       0       1892      \\N              12           Animation,Short  \n",
            "4       0       1893      \\N               1              Comedy,Short  \n"
          ]
        }
      ],
      "source": [
        "print(df_title_Basics5.head())"
      ]
    },
    {
      "cell_type": "code",
      "execution_count": null,
      "metadata": {
        "colab": {
          "base_uri": "https://localhost:8080/"
        },
        "id": "QMpDpNnbRhrh",
        "outputId": "21de9390-f3d0-4905-862b-c4e633d5f61b"
      },
      "outputs": [
        {
          "output_type": "stream",
          "name": "stdout",
          "text": [
            "<class 'pandas.core.frame.DataFrame'>\n",
            "Int64Index: 2358644 entries, 0 to 9313428\n",
            "Data columns (total 9 columns):\n",
            " #   Column          Dtype \n",
            "---  ------          ----- \n",
            " 0   tconst          object\n",
            " 1   titleType       object\n",
            " 2   primaryTitle    object\n",
            " 3   originalTitle   object\n",
            " 4   isAdult         object\n",
            " 5   startYear       int64 \n",
            " 6   endYear         object\n",
            " 7   runtimeMinutes  int64 \n",
            " 8   genres          object\n",
            "dtypes: int64(2), object(7)\n",
            "memory usage: 180.0+ MB\n"
          ]
        }
      ],
      "source": [
        "df_title_Basics5.info()"
      ]
    },
    {
      "cell_type": "code",
      "execution_count": null,
      "metadata": {
        "colab": {
          "base_uri": "https://localhost:8080/"
        },
        "id": "mPoJGO8tMr0i",
        "outputId": "16096418-0dfa-4c7a-f672-a70f0db39922"
      },
      "outputs": [
        {
          "output_type": "stream",
          "name": "stdout",
          "text": [
            "      tconst titleType            primaryTitle           originalTitle  \\\n",
            "0  tt0000001     short              Carmencita              Carmencita   \n",
            "1  tt0000002     short  Le clown et ses chiens  Le clown et ses chiens   \n",
            "2  tt0000003     short          Pauvre Pierrot          Pauvre Pierrot   \n",
            "3  tt0000004     short             Un bon bock             Un bon bock   \n",
            "4  tt0000005     short        Blacksmith Scene        Blacksmith Scene   \n",
            "\n",
            "  isAdult  startYear endYear  runtimeMinutes                    genres  \n",
            "0       0       1894      \\N               1         Documentary,Short  \n",
            "1       0       1892      \\N               5           Animation,Short  \n",
            "2       0       1892      \\N               4  Animation,Comedy,Romance  \n",
            "3       0       1892      \\N              12           Animation,Short  \n",
            "4       0       1893      \\N               1              Comedy,Short  \n"
          ]
        }
      ],
      "source": [
        "print(df_title_Basics5.head())"
      ]
    },
    {
      "cell_type": "code",
      "execution_count": null,
      "metadata": {
        "colab": {
          "base_uri": "https://localhost:8080/"
        },
        "id": "JXJmgQd8nG5T",
        "outputId": "2d710ce8-4fd6-4950-b28c-fe24346f1277"
      },
      "outputs": [
        {
          "output_type": "stream",
          "name": "stdout",
          "text": [
            "|       | tconst    | titleType   | primaryTitle                   | originalTitle                  |   isAdult |   startYear | endYear   |   runtimeMinutes | genres                |\n",
            "|------:|:----------|:------------|:-------------------------------|:-------------------------------|----------:|------------:|:----------|-----------------:|:----------------------|\n",
            "| 15482 | tt0015724 | movie       | Dama de noche                  | Dama de noche                  |         0 |        1993 | \\N        |              102 | Drama,Mystery,Romance |\n",
            "| 40127 | tt0040844 | short       | Crossroads of Laredo           | Crossroads of Laredo           |         0 |        1995 | \\N        |               30 | Short,Western         |\n",
            "| 58184 | tt0059325 | movie       | Born in '45                    | Jahrgang 45                    |         0 |        1990 | \\N        |              100 | Drama,Romance         |\n",
            "| 58738 | tt0059900 | movie       | Wenn du groß bist, lieber Adam | Wenn du groß bist, lieber Adam |         0 |        1990 | \\N        |               78 | Drama,Fantasy         |\n",
            "| 63866 | tt0065188 | movie       | Vojtech, receny sirotek        | Vojtech, receny sirotek        |         0 |        1990 | \\N        |               80 | Drama                 |\n"
          ]
        }
      ],
      "source": [
        "condition1 = df_title_Basics5['startYear']>=1990\n",
        "# print(df_title_Basics3[condition1])\n",
        "\n",
        "condition2 = df_title_Basics5['startYear']<2000\n",
        "# print(df_title_Basics3[condition1])\n",
        "\n",
        "condition1et2 = (condition1) & (condition2)\n",
        "\n",
        "df_title_Basics6 = df_title_Basics5[condition1et2]\n",
        "\n",
        "print((df_title_Basics6).head().to_markdown())\n"
      ]
    },
    {
      "cell_type": "code",
      "execution_count": null,
      "metadata": {
        "colab": {
          "base_uri": "https://localhost:8080/"
        },
        "id": "lYfMkijeOUc1",
        "outputId": "b5883c16-8df6-40c8-bea2-e910dbc7d850"
      },
      "outputs": [
        {
          "output_type": "stream",
          "name": "stdout",
          "text": [
            "Drama                          16610\n",
            "Drama,Romance                  15405\n",
            "Comedy                         12934\n",
            "Documentary                    11764\n",
            "Short                           9896\n",
            "                               ...  \n",
            "Animation,Documentary,Music        1\n",
            "Action,Biography,Western           1\n",
            "Family,Musical,Romance             1\n",
            "Documentary,Family,Western         1\n",
            "Drama,Music,Thriller               1\n",
            "Name: genres, Length: 1070, dtype: int64\n"
          ]
        }
      ],
      "source": [
        "print(df_title_Basics6['genres'].value_counts())"
      ]
    },
    {
      "cell_type": "code",
      "execution_count": null,
      "metadata": {
        "colab": {
          "base_uri": "https://localhost:8080/"
        },
        "id": "n6H5nf58PPjX",
        "outputId": "5b2efee6-2939-4a29-b387-485e71f66bbe"
      },
      "outputs": [
        {
          "output_type": "stream",
          "name": "stdout",
          "text": [
            "tvEpisode       95961\n",
            "movie           31131\n",
            "short           21405\n",
            "tvMovie         12550\n",
            "tvSeries         9860\n",
            "video            9597\n",
            "tvSpecial        1759\n",
            "tvMiniSeries     1542\n",
            "tvShort           939\n",
            "videoGame          38\n",
            "Name: titleType, dtype: int64\n"
          ]
        }
      ],
      "source": [
        "print(df_title_Basics6['titleType'].value_counts())"
      ]
    },
    {
      "cell_type": "code",
      "execution_count": null,
      "metadata": {
        "colab": {
          "base_uri": "https://localhost:8080/"
        },
        "id": "dzBcduzeRsa9",
        "outputId": "dd369350-a5b6-4e30-c2a6-818d4c3caa18"
      },
      "outputs": [
        {
          "output_type": "stream",
          "name": "stderr",
          "text": [
            "/usr/local/lib/python3.7/dist-packages/ipykernel_launcher.py:3: UserWarning: Boolean Series key will be reindexed to match DataFrame index.\n",
            "  This is separate from the ipykernel package so we can avoid doing imports until\n"
          ]
        },
        {
          "output_type": "stream",
          "name": "stdout",
          "text": [
            "|       | tconst    | titleType   | primaryTitle                   | originalTitle                  |   isAdult |   startYear | endYear   |   runtimeMinutes | genres                |\n",
            "|------:|:----------|:------------|:-------------------------------|:-------------------------------|----------:|------------:|:----------|-----------------:|:----------------------|\n",
            "| 15482 | tt0015724 | movie       | Dama de noche                  | Dama de noche                  |         0 |        1993 | \\N        |              102 | Drama,Mystery,Romance |\n",
            "| 58184 | tt0059325 | movie       | Born in '45                    | Jahrgang 45                    |         0 |        1990 | \\N        |              100 | Drama,Romance         |\n",
            "| 58738 | tt0059900 | movie       | Wenn du groß bist, lieber Adam | Wenn du groß bist, lieber Adam |         0 |        1990 | \\N        |               78 | Drama,Fantasy         |\n",
            "| 63866 | tt0065188 | movie       | Vojtech, receny sirotek        | Vojtech, receny sirotek        |         0 |        1990 | \\N        |               80 | Drama                 |\n",
            "| 66087 | tt0067460 | movie       | My Kingdom for...              | My Kingdom For...              |         0 |        1995 | \\N        |               85 | Documentary,Sport     |\n"
          ]
        }
      ],
      "source": [
        "# Créer un df à partir du précédent en ne conservant que \"movie\" de la colonnes \"titleType\" \n",
        "condition3 = df_title_Basics5.titleType.isin(['movie'])\n",
        "df_title_Basics7 = df_title_Basics6[condition3]\n",
        "print((df_title_Basics7).head().to_markdown())"
      ]
    },
    {
      "cell_type": "code",
      "execution_count": null,
      "metadata": {
        "colab": {
          "base_uri": "https://localhost:8080/"
        },
        "id": "balW4VEOYC58",
        "outputId": "e08d508b-7663-4d1a-962d-2bd1721b2c0e"
      },
      "outputs": [
        {
          "output_type": "stream",
          "name": "stdout",
          "text": [
            "tt0015724    1\n",
            "tt0298344    1\n",
            "tt0299759    1\n",
            "tt0299693    1\n",
            "tt0299674    1\n",
            "            ..\n",
            "tt0119174    1\n",
            "tt0119173    1\n",
            "tt0119171    1\n",
            "tt0119170    1\n",
            "tt9916162    1\n",
            "Name: tconst, Length: 31131, dtype: int64\n"
          ]
        }
      ],
      "source": [
        "# verifier si chaque tconst est bien distinct\n",
        "count_movie_id = df_title_Basics7['tconst'].value_counts()\n",
        "print(count_movie_id)"
      ]
    },
    {
      "cell_type": "code",
      "execution_count": null,
      "metadata": {
        "colab": {
          "base_uri": "https://localhost:8080/"
        },
        "id": "89LYy-JTSOV5",
        "outputId": "a1ad88f8-f049-4a0d-ace7-7afe0410bd2b"
      },
      "outputs": [
        {
          "output_type": "execute_result",
          "data": {
            "text/plain": [
              "(31131, 9)"
            ]
          },
          "metadata": {},
          "execution_count": 24
        }
      ],
      "source": [
        "df_title_Basics7.shape"
      ]
    },
    {
      "cell_type": "code",
      "execution_count": null,
      "metadata": {
        "colab": {
          "base_uri": "https://localhost:8080/"
        },
        "id": "ObbS4cdveRSB",
        "outputId": "4eb88882-c502-417d-998a-80d45a60bac0"
      },
      "outputs": [
        {
          "output_type": "stream",
          "name": "stderr",
          "text": [
            "/usr/local/lib/python3.7/dist-packages/pandas/core/frame.py:4913: SettingWithCopyWarning: \n",
            "A value is trying to be set on a copy of a slice from a DataFrame\n",
            "\n",
            "See the caveats in the documentation: https://pandas.pydata.org/pandas-docs/stable/user_guide/indexing.html#returning-a-view-versus-a-copy\n",
            "  errors=errors,\n"
          ]
        }
      ],
      "source": [
        "# Suppression des colonnes \"isadult\" et \"endYear\" et 'titleType'\n",
        "df_title_Basics7.drop(columns =['isAdult', 'endYear', 'titleType'], inplace = True)"
      ]
    },
    {
      "cell_type": "code",
      "execution_count": null,
      "metadata": {
        "colab": {
          "base_uri": "https://localhost:8080/"
        },
        "id": "-VXDA_gxMm3c",
        "outputId": "907a2038-c146-4b84-befc-eb03c7e5e073"
      },
      "outputs": [
        {
          "output_type": "stream",
          "name": "stderr",
          "text": [
            "/usr/local/lib/python3.7/dist-packages/pandas/util/_decorators.py:311: SettingWithCopyWarning: \n",
            "A value is trying to be set on a copy of a slice from a DataFrame\n",
            "\n",
            "See the caveats in the documentation: https://pandas.pydata.org/pandas-docs/stable/user_guide/indexing.html#returning-a-view-versus-a-copy\n",
            "  return func(*args, **kwargs)\n"
          ]
        }
      ],
      "source": [
        "df_title_Basics7.sort_values(['startYear'], ascending=True, inplace=True)"
      ]
    },
    {
      "cell_type": "code",
      "execution_count": null,
      "metadata": {
        "colab": {
          "base_uri": "https://localhost:8080/"
        },
        "id": "IVVstansNA0h",
        "outputId": "1372e977-3ac9-48b5-c3fe-cf2ab375ebc7"
      },
      "outputs": [
        {
          "output_type": "stream",
          "name": "stdout",
          "text": [
            "|         | tconst    | primaryTitle                             | originalTitle                            |   startYear |   runtimeMinutes | genres             |\n",
            "|--------:|:----------|:-----------------------------------------|:-----------------------------------------|------------:|-----------------:|:-------------------|\n",
            "| 6016440 | tt2539182 | Code Name 348: Onna keiji sashiba        | Code Name 348: Onna keiji sashiba        |        1990 |               80 | Crime              |\n",
            "|  415724 | tt0433264 | Een wolk van groen                       | Een wolk van groen                       |        1990 |               87 | Documentary        |\n",
            "|  414943 | tt0432459 | Young Shim                               | Yeongshimi                               |        1990 |              100 | Drama,Romance      |\n",
            "|  414616 | tt0432116 | Supermarket                              | Supermarket                              |        1990 |              104 | Comedy,Crime,Drama |\n",
            "|  414186 | tt0431682 | Chernaya magiya, ili svidanie s dyavolom | Chernaya magiya, ili svidanie s dyavolom |        1990 |               99 | Drama              |\n"
          ]
        }
      ],
      "source": [
        "print((df_title_Basics7).head().to_markdown())"
      ]
    },
    {
      "cell_type": "code",
      "execution_count": null,
      "metadata": {
        "colab": {
          "base_uri": "https://localhost:8080/"
        },
        "id": "ZZUT-jcBZGrV",
        "outputId": "2080196f-cd2d-4c64-d32a-2884122c4767"
      },
      "outputs": [
        {
          "output_type": "stream",
          "name": "stdout",
          "text": [
            "Drama                          5157\n",
            "Documentary                    4302\n",
            "\\N                             3267\n",
            "Comedy                         2265\n",
            "Comedy,Drama                    986\n",
            "                               ... \n",
            "Adventure,Documentary,Drama       1\n",
            "Biography,Western                 1\n",
            "Animation,Music                   1\n",
            "Drama,Mystery,War                 1\n",
            "Comedy,Horror,Music               1\n",
            "Name: genres, Length: 590, dtype: int64\n"
          ]
        }
      ],
      "source": [
        "print(df_title_Basics7['genres'].value_counts())"
      ]
    },
    {
      "cell_type": "code",
      "execution_count": null,
      "metadata": {
        "colab": {
          "base_uri": "https://localhost:8080/"
        },
        "id": "T1KJqKcOm8Pr",
        "outputId": "a8a77240-ee4e-46e9-e268-a992853ae105"
      },
      "outputs": [
        {
          "output_type": "stream",
          "name": "stderr",
          "text": [
            "/usr/local/lib/python3.7/dist-packages/ipykernel_launcher.py:2: SettingWithCopyWarning: \n",
            "A value is trying to be set on a copy of a slice from a DataFrame.\n",
            "Try using .loc[row_indexer,col_indexer] = value instead\n",
            "\n",
            "See the caveats in the documentation: https://pandas.pydata.org/pandas-docs/stable/user_guide/indexing.html#returning-a-view-versus-a-copy\n",
            "  \n"
          ]
        }
      ],
      "source": [
        "# Remplacer \"\\N\" par \"unknown\" (None ne fonctionne pas) dans la série \"startYear\"\n",
        "df_title_Basics7['genres'] = df_title_Basics7.genres.str.replace('\\\\N','unknown',regex = False)\n"
      ]
    },
    {
      "cell_type": "code",
      "execution_count": null,
      "metadata": {
        "id": "Ia-ndHqmZTf1"
      },
      "outputs": [],
      "source": [
        "# Créer un df à partir du précédent en ne conservant que les données différentes de \"unknown\" de la colonnes \"genres\" \n",
        "# test = df_title_Basics7[df_title_Basics7['genres'] != 'unknown']\n",
        "# test = df_title_Basics7[df_title_Basics7['genres'] != 'unknown']\n",
        "df_title_Basics8 = df_title_Basics7[df_title_Basics7['genres'] != 'unknown']"
      ]
    },
    {
      "cell_type": "code",
      "execution_count": null,
      "metadata": {
        "colab": {
          "base_uri": "https://localhost:8080/"
        },
        "id": "PBuWpYWBpNj0",
        "outputId": "d2e11c3c-8862-47b2-cf18-95bda6b4ce2b"
      },
      "outputs": [
        {
          "output_type": "stream",
          "name": "stdout",
          "text": [
            "            tconst                              primaryTitle  \\\n",
            "6016440  tt2539182         Code Name 348: Onna keiji sashiba   \n",
            "415724   tt0433264                        Een wolk van groen   \n",
            "414943   tt0432459                                Young Shim   \n",
            "414616   tt0432116                               Supermarket   \n",
            "414186   tt0431682  Chernaya magiya, ili svidanie s dyavolom   \n",
            "\n",
            "                                    originalTitle  startYear  runtimeMinutes  \\\n",
            "6016440         Code Name 348: Onna keiji sashiba       1990              80   \n",
            "415724                         Een wolk van groen       1990              87   \n",
            "414943                                 Yeongshimi       1990             100   \n",
            "414616                                Supermarket       1990             104   \n",
            "414186   Chernaya magiya, ili svidanie s dyavolom       1990              99   \n",
            "\n",
            "                     genres  \n",
            "6016440               Crime  \n",
            "415724          Documentary  \n",
            "414943        Drama,Romance  \n",
            "414616   Comedy,Crime,Drama  \n",
            "414186                Drama  \n"
          ]
        }
      ],
      "source": [
        "print(df_title_Basics8.head())"
      ]
    },
    {
      "cell_type": "code",
      "execution_count": null,
      "metadata": {
        "colab": {
          "base_uri": "https://localhost:8080/"
        },
        "id": "Th1mrQjRU0Gq",
        "outputId": "bd22acee-7a2d-49d4-faf5-7508d8d610aa"
      },
      "outputs": [
        {
          "output_type": "stream",
          "name": "stderr",
          "text": [
            "/usr/local/lib/python3.7/dist-packages/ipykernel_launcher.py:3: SettingWithCopyWarning: \n",
            "A value is trying to be set on a copy of a slice from a DataFrame.\n",
            "Try using .loc[row_indexer,col_indexer] = value instead\n",
            "\n",
            "See the caveats in the documentation: https://pandas.pydata.org/pandas-docs/stable/user_guide/indexing.html#returning-a-view-versus-a-copy\n",
            "  This is separate from the ipykernel package so we can avoid doing imports until\n"
          ]
        }
      ],
      "source": [
        "# test = df_title_Basics8['genres'].str.split(',')\n",
        "# test = df_title_Basics8['genres'].str.split(',')\n",
        "df_title_Basics8['genres'] = df_title_Basics8['genres'].str.split(',')"
      ]
    },
    {
      "cell_type": "code",
      "execution_count": null,
      "metadata": {
        "colab": {
          "base_uri": "https://localhost:8080/"
        },
        "id": "bRBKhphppsYO",
        "outputId": "11508257-8506-477c-b10e-2703d809345e"
      },
      "outputs": [
        {
          "output_type": "stream",
          "name": "stdout",
          "text": [
            "            tconst                              primaryTitle  \\\n",
            "6016440  tt2539182         Code Name 348: Onna keiji sashiba   \n",
            "415724   tt0433264                        Een wolk van groen   \n",
            "414943   tt0432459                                Young Shim   \n",
            "414616   tt0432116                               Supermarket   \n",
            "414186   tt0431682  Chernaya magiya, ili svidanie s dyavolom   \n",
            "\n",
            "                                    originalTitle  startYear  runtimeMinutes  \\\n",
            "6016440         Code Name 348: Onna keiji sashiba       1990              80   \n",
            "415724                         Een wolk van groen       1990              87   \n",
            "414943                                 Yeongshimi       1990             100   \n",
            "414616                                Supermarket       1990             104   \n",
            "414186   Chernaya magiya, ili svidanie s dyavolom       1990              99   \n",
            "\n",
            "                         genres  \n",
            "6016440                 [Crime]  \n",
            "415724            [Documentary]  \n",
            "414943         [Drama, Romance]  \n",
            "414616   [Comedy, Crime, Drama]  \n",
            "414186                  [Drama]  \n"
          ]
        }
      ],
      "source": [
        "print(df_title_Basics8.head())"
      ]
    },
    {
      "cell_type": "code",
      "execution_count": null,
      "metadata": {
        "id": "fsLOoPmOptrM"
      },
      "outputs": [],
      "source": [
        "serie_explode = df_title_Basics8.genres.explode()"
      ]
    },
    {
      "cell_type": "code",
      "execution_count": null,
      "metadata": {
        "colab": {
          "base_uri": "https://localhost:8080/"
        },
        "id": "MOU_zTrJqQsr",
        "outputId": "03c7ba87-e11d-4eb8-ada3-6e84b64734b7"
      },
      "outputs": [
        {
          "output_type": "stream",
          "name": "stdout",
          "text": [
            "Drama          12678\n",
            "Comedy          6834\n",
            "Documentary     5211\n",
            "Action          3967\n",
            "Romance         3168\n",
            "Crime           2806\n",
            "Thriller        2523\n",
            "Horror          1409\n",
            "Adventure       1228\n",
            "Fantasy          970\n",
            "Family           944\n",
            "Mystery          854\n",
            "Sci-Fi           717\n",
            "Biography        701\n",
            "History          608\n",
            "Music            585\n",
            "War              471\n",
            "Animation        434\n",
            "Musical          290\n",
            "Sport            264\n",
            "Western           99\n",
            "Reality-TV         6\n",
            "Talk-Show          5\n",
            "Adult              4\n",
            "News               2\n",
            "Short              2\n",
            "Name: genres, dtype: int64\n"
          ]
        }
      ],
      "source": [
        "print(serie_explode.value_counts())"
      ]
    },
    {
      "cell_type": "code",
      "execution_count": null,
      "metadata": {
        "id": "TZeU9wsbqY60"
      },
      "outputs": [],
      "source": [
        "df_title_Basics8.to_csv('/content/drive/MyDrive/2209-Data/Projets/Projet2/RAM/En_cours/clean_dataset/alexis_title_basics_v1.csv', index=False)"
      ]
    }
  ],
  "metadata": {
    "colab": {
      "collapsed_sections": [],
      "provenance": [],
      "include_colab_link": true
    },
    "kernelspec": {
      "display_name": "Python 3.10.7 64-bit (microsoft store)",
      "language": "python",
      "name": "python3"
    },
    "language_info": {
      "name": "python",
      "version": "3.10.7"
    },
    "vscode": {
      "interpreter": {
        "hash": "c5fb5e78068286ad4ec2111baba118e0d35af9e9b40524b1c6e140f245c1a137"
      }
    }
  },
  "nbformat": 4,
  "nbformat_minor": 0
}