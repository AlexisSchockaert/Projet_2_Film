{
  "nbformat": 4,
  "nbformat_minor": 0,
  "metadata": {
    "colab": {
      "provenance": [],
      "collapsed_sections": [],
      "include_colab_link": true
    },
    "kernelspec": {
      "name": "python3",
      "display_name": "Python 3"
    },
    "language_info": {
      "name": "python"
    }
  },
  "cells": [
    {
      "cell_type": "markdown",
      "metadata": {
        "id": "view-in-github",
        "colab_type": "text"
      },
      "source": [
        "<a href=\"https://colab.research.google.com/github/AlexisSchockaert/Projet_2_Film/blob/Branche_Alexis/title_basics_v1.ipynb\" target=\"_parent\"><img src=\"https://colab.research.google.com/assets/colab-badge.svg\" alt=\"Open In Colab\"/></a>"
      ]
    },
    {
      "cell_type": "code",
      "execution_count": 168,
      "metadata": {
        "colab": {
          "base_uri": "https://localhost:8080/"
        },
        "id": "TVqmIt844AHO",
        "outputId": "7be9da97-9b0a-4ce6-bfb1-fcb736268973"
      },
      "outputs": [
        {
          "output_type": "stream",
          "name": "stdout",
          "text": [
            "Drive already mounted at /content/drive; to attempt to forcibly remount, call drive.mount(\"/content/drive\", force_remount=True).\n"
          ]
        }
      ],
      "source": [
        "from google.colab import drive\n",
        "drive.mount('/content/drive')"
      ]
    },
    {
      "cell_type": "code",
      "source": [
        "import pandas as pd"
      ],
      "metadata": {
        "id": "qF65l6JYIWyc"
      },
      "execution_count": 169,
      "outputs": []
    },
    {
      "cell_type": "code",
      "source": [
        "df_title_Basics = pd.read_csv(\"https://datasets.imdbws.com/title.basics.tsv.gz\", sep = \"\\t\")\n",
        "print(df_title_Basics.head().to_markdown())"
      ],
      "metadata": {
        "id": "X0XmGAmz61Th",
        "colab": {
          "base_uri": "https://localhost:8080/"
        },
        "outputId": "694007b3-51bf-4699-fade-7b4f17a3bdc1"
      },
      "execution_count": 170,
      "outputs": [
        {
          "output_type": "stream",
          "name": "stderr",
          "text": [
            "/usr/local/lib/python3.7/dist-packages/IPython/core/interactiveshell.py:3326: DtypeWarning: Columns (4) have mixed types.Specify dtype option on import or set low_memory=False.\n",
            "  exec(code_obj, self.user_global_ns, self.user_ns)\n"
          ]
        },
        {
          "output_type": "stream",
          "name": "stdout",
          "text": [
            "|    | tconst    | titleType   | primaryTitle           | originalTitle          |   isAdult |   startYear | endYear   |   runtimeMinutes | genres                   |\n",
            "|---:|:----------|:------------|:-----------------------|:-----------------------|----------:|------------:|:----------|-----------------:|:-------------------------|\n",
            "|  0 | tt0000001 | short       | Carmencita             | Carmencita             |         0 |        1894 | \\N        |                1 | Documentary,Short        |\n",
            "|  1 | tt0000002 | short       | Le clown et ses chiens | Le clown et ses chiens |         0 |        1892 | \\N        |                5 | Animation,Short          |\n",
            "|  2 | tt0000003 | short       | Pauvre Pierrot         | Pauvre Pierrot         |         0 |        1892 | \\N        |                4 | Animation,Comedy,Romance |\n",
            "|  3 | tt0000004 | short       | Un bon bock            | Un bon bock            |         0 |        1892 | \\N        |               12 | Animation,Short          |\n",
            "|  4 | tt0000005 | short       | Blacksmith Scene       | Blacksmith Scene       |         0 |        1893 | \\N        |                1 | Comedy,Short             |\n"
          ]
        }
      ]
    },
    {
      "cell_type": "code",
      "source": [
        "df_title_Basics['startYear'].replace({r'\\N': None},inplace =True)  # Remplacer \"\\N\" par \"None\" dans la série \"startYear\""
      ],
      "metadata": {
        "id": "warkcGZ1yIMk"
      },
      "execution_count": 171,
      "outputs": []
    },
    {
      "cell_type": "code",
      "source": [
        "df_title_Basics2=df_title_Basics[pd.notnull(df_title_Basics['startYear'])]"
      ],
      "metadata": {
        "id": "MnwiE_0ZzKla"
      },
      "execution_count": 172,
      "outputs": []
    },
    {
      "cell_type": "code",
      "source": [
        "df_title_Basics2['startYear'].value_counts()"
      ],
      "metadata": {
        "colab": {
          "base_uri": "https://localhost:8080/"
        },
        "id": "G0nVZsqqMczc",
        "outputId": "7b40957a-867f-43c8-f38f-45e58c9d9db1"
      },
      "execution_count": null,
      "outputs": [
        {
          "output_type": "execute_result",
          "data": {
            "text/plain": [
              "2021    433672\n",
              "2018    423596\n",
              "2017    420345\n",
              "2019    412182\n",
              "2016    398836\n",
              "         ...  \n",
              "1882         2\n",
              "1881         2\n",
              "1874         1\n",
              "1883         1\n",
              "1885         1\n",
              "Name: startYear, Length: 150, dtype: int64"
            ]
          },
          "metadata": {},
          "execution_count": 9
        }
      ]
    },
    {
      "cell_type": "code",
      "source": [
        "print(df_title_Basics2.head().to_markdown())"
      ],
      "metadata": {
        "colab": {
          "base_uri": "https://localhost:8080/"
        },
        "id": "OVMKpTTHzdX8",
        "outputId": "229238e0-46e3-41cb-e0e6-14b5f0f76197"
      },
      "execution_count": null,
      "outputs": [
        {
          "output_type": "stream",
          "name": "stdout",
          "text": [
            "|    | tconst    | titleType   | primaryTitle           | originalTitle          |   isAdult |   startYear | endYear   |   runtimeMinutes | genres                   |\n",
            "|---:|:----------|:------------|:-----------------------|:-----------------------|----------:|------------:|:----------|-----------------:|:-------------------------|\n",
            "|  0 | tt0000001 | short       | Carmencita             | Carmencita             |         0 |        1894 | \\N        |                1 | Documentary,Short        |\n",
            "|  1 | tt0000002 | short       | Le clown et ses chiens | Le clown et ses chiens |         0 |        1892 | \\N        |                5 | Animation,Short          |\n",
            "|  2 | tt0000003 | short       | Pauvre Pierrot         | Pauvre Pierrot         |         0 |        1892 | \\N        |                4 | Animation,Comedy,Romance |\n",
            "|  3 | tt0000004 | short       | Un bon bock            | Un bon bock            |         0 |        1892 | \\N        |               12 | Animation,Short          |\n",
            "|  4 | tt0000005 | short       | Blacksmith Scene       | Blacksmith Scene       |         0 |        1893 | \\N        |                1 | Comedy,Short             |\n"
          ]
        }
      ]
    },
    {
      "cell_type": "code",
      "source": [
        "test = df_title_Basics2['startYear'].astype(int)\n",
        "df_title_Basics2['startYear'] = df_title_Basics2['startYear'].astype(int)"
      ],
      "metadata": {
        "colab": {
          "base_uri": "https://localhost:8080/"
        },
        "id": "QlQAAoo1V8QG",
        "outputId": "61ff549f-3e5c-417b-eb4c-18df794e2537"
      },
      "execution_count": 173,
      "outputs": [
        {
          "output_type": "stream",
          "name": "stderr",
          "text": [
            "/usr/local/lib/python3.7/dist-packages/ipykernel_launcher.py:2: SettingWithCopyWarning: \n",
            "A value is trying to be set on a copy of a slice from a DataFrame.\n",
            "Try using .loc[row_indexer,col_indexer] = value instead\n",
            "\n",
            "See the caveats in the documentation: https://pandas.pydata.org/pandas-docs/stable/user_guide/indexing.html#returning-a-view-versus-a-copy\n",
            "  \n"
          ]
        }
      ]
    },
    {
      "cell_type": "code",
      "source": [
        "# df_title_Basics2['startYear'] = df_title_Basics2['startYear'].apply(lambda x: eval(x.strip()))\n",
        "\n",
        "\"\"\"\n",
        "def convert_type(x):\n",
        "  return eval(x.strip())\n",
        "\"\"\""
      ],
      "metadata": {
        "id": "y2A4c31zabnQ"
      },
      "execution_count": null,
      "outputs": []
    },
    {
      "cell_type": "code",
      "source": [
        "df_title_Basics2['runtimeMinutes'].replace({r\"\\N\" : None}, inplace = True)"
      ],
      "metadata": {
        "colab": {
          "base_uri": "https://localhost:8080/"
        },
        "id": "t_y4xT3QckaS",
        "outputId": "0fc0426e-8028-4091-8041-2bd6bbbdea24"
      },
      "execution_count": 174,
      "outputs": [
        {
          "output_type": "stream",
          "name": "stderr",
          "text": [
            "/usr/local/lib/python3.7/dist-packages/pandas/core/generic.py:6619: SettingWithCopyWarning: \n",
            "A value is trying to be set on a copy of a slice from a DataFrame\n",
            "\n",
            "See the caveats in the documentation: https://pandas.pydata.org/pandas-docs/stable/user_guide/indexing.html#returning-a-view-versus-a-copy\n",
            "  return self._update_inplace(result)\n"
          ]
        }
      ]
    },
    {
      "cell_type": "code",
      "source": [
        "df_title_Basics3 = df_title_Basics2[pd.notnull(df_title_Basics2['runtimeMinutes'])]\n"
      ],
      "metadata": {
        "id": "tgKC5aUUgP6_"
      },
      "execution_count": 175,
      "outputs": []
    },
    {
      "cell_type": "code",
      "source": [
        "df_title_Basics3['runtimeMinutes'] = df_title_Basics3['runtimeMinutes'].astype(int)"
      ],
      "metadata": {
        "colab": {
          "base_uri": "https://localhost:8080/"
        },
        "id": "ZYOthGz1u7y3",
        "outputId": "be864885-aeb6-4cc5-850f-21168221ecbe"
      },
      "execution_count": 176,
      "outputs": [
        {
          "output_type": "stream",
          "name": "stderr",
          "text": [
            "/usr/local/lib/python3.7/dist-packages/ipykernel_launcher.py:1: SettingWithCopyWarning: \n",
            "A value is trying to be set on a copy of a slice from a DataFrame.\n",
            "Try using .loc[row_indexer,col_indexer] = value instead\n",
            "\n",
            "See the caveats in the documentation: https://pandas.pydata.org/pandas-docs/stable/user_guide/indexing.html#returning-a-view-versus-a-copy\n",
            "  \"\"\"Entry point for launching an IPython kernel.\n"
          ]
        }
      ]
    },
    {
      "cell_type": "code",
      "source": [
        "df_title_Basics3.info()"
      ],
      "metadata": {
        "colab": {
          "base_uri": "https://localhost:8080/"
        },
        "id": "eGxUEvR5aqRB",
        "outputId": "12ba441e-58f0-4581-9878-39157c9d84ba"
      },
      "execution_count": 98,
      "outputs": [
        {
          "output_type": "stream",
          "name": "stdout",
          "text": [
            "<class 'pandas.core.frame.DataFrame'>\n",
            "Int64Index: 2475130 entries, 0 to 9308032\n",
            "Data columns (total 9 columns):\n",
            " #   Column          Dtype \n",
            "---  ------          ----- \n",
            " 0   tconst          object\n",
            " 1   titleType       object\n",
            " 2   primaryTitle    object\n",
            " 3   originalTitle   object\n",
            " 4   isAdult         object\n",
            " 5   startYear       int64 \n",
            " 6   endYear         object\n",
            " 7   runtimeMinutes  int64 \n",
            " 8   genres          object\n",
            "dtypes: int64(2), object(7)\n",
            "memory usage: 188.8+ MB\n"
          ]
        }
      ]
    },
    {
      "cell_type": "code",
      "source": [
        "df_title_Basics3['isAdult'].replace({r'\\N': None},inplace =True)"
      ],
      "metadata": {
        "id": "oqMXW4jF-5Wh"
      },
      "execution_count": 177,
      "outputs": []
    },
    {
      "cell_type": "code",
      "source": [
        "df_title_Basics4=df_title_Basics3[pd.notnull(df_title_Basics3['isAdult'])]\n"
      ],
      "metadata": {
        "id": "UZdvCV8Z-_Pr"
      },
      "execution_count": 178,
      "outputs": []
    },
    {
      "cell_type": "code",
      "source": [
        "df_title_Basics5 = df_title_Basics4[df_title_Basics4['isAdult']==False]"
      ],
      "metadata": {
        "id": "nc1sfgf0MNMb"
      },
      "execution_count": 179,
      "outputs": []
    },
    {
      "cell_type": "code",
      "source": [
        "print(df_title_Basics5.head())"
      ],
      "metadata": {
        "colab": {
          "base_uri": "https://localhost:8080/"
        },
        "id": "vBuOy-JnYDYp",
        "outputId": "3db8e02f-faf0-4f2a-aeb8-a663fc43a9d3"
      },
      "execution_count": 102,
      "outputs": [
        {
          "output_type": "stream",
          "name": "stdout",
          "text": [
            "      tconst titleType            primaryTitle           originalTitle  \\\n",
            "0  tt0000001     short              Carmencita              Carmencita   \n",
            "1  tt0000002     short  Le clown et ses chiens  Le clown et ses chiens   \n",
            "2  tt0000003     short          Pauvre Pierrot          Pauvre Pierrot   \n",
            "3  tt0000004     short             Un bon bock             Un bon bock   \n",
            "4  tt0000005     short        Blacksmith Scene        Blacksmith Scene   \n",
            "\n",
            "   isAdult  startYear endYear  runtimeMinutes                    genres  \n",
            "0        0       1894      \\N               1         Documentary,Short  \n",
            "1        0       1892      \\N               5           Animation,Short  \n",
            "2        0       1892      \\N               4  Animation,Comedy,Romance  \n",
            "3        0       1892      \\N              12           Animation,Short  \n",
            "4        0       1893      \\N               1              Comedy,Short  \n"
          ]
        }
      ]
    },
    {
      "cell_type": "code",
      "source": [
        "df_title_Basics5.info()"
      ],
      "metadata": {
        "colab": {
          "base_uri": "https://localhost:8080/"
        },
        "id": "QMpDpNnbRhrh",
        "outputId": "a005fe18-d91b-4038-8826-a1436c9ee1f0"
      },
      "execution_count": 103,
      "outputs": [
        {
          "output_type": "stream",
          "name": "stdout",
          "text": [
            "<class 'pandas.core.frame.DataFrame'>\n",
            "Int64Index: 2355214 entries, 0 to 9308032\n",
            "Data columns (total 9 columns):\n",
            " #   Column          Dtype \n",
            "---  ------          ----- \n",
            " 0   tconst          object\n",
            " 1   titleType       object\n",
            " 2   primaryTitle    object\n",
            " 3   originalTitle   object\n",
            " 4   isAdult         int64 \n",
            " 5   startYear       int64 \n",
            " 6   endYear         object\n",
            " 7   runtimeMinutes  int64 \n",
            " 8   genres          object\n",
            "dtypes: int64(3), object(6)\n",
            "memory usage: 179.7+ MB\n"
          ]
        }
      ]
    },
    {
      "cell_type": "code",
      "source": [
        "print(df_title_Basics5.head())"
      ],
      "metadata": {
        "colab": {
          "base_uri": "https://localhost:8080/"
        },
        "id": "mPoJGO8tMr0i",
        "outputId": "bedd56ad-38fd-4de0-c571-4c8506553ee0"
      },
      "execution_count": 104,
      "outputs": [
        {
          "output_type": "stream",
          "name": "stdout",
          "text": [
            "      tconst titleType            primaryTitle           originalTitle  \\\n",
            "0  tt0000001     short              Carmencita              Carmencita   \n",
            "1  tt0000002     short  Le clown et ses chiens  Le clown et ses chiens   \n",
            "2  tt0000003     short          Pauvre Pierrot          Pauvre Pierrot   \n",
            "3  tt0000004     short             Un bon bock             Un bon bock   \n",
            "4  tt0000005     short        Blacksmith Scene        Blacksmith Scene   \n",
            "\n",
            "   isAdult  startYear endYear  runtimeMinutes                    genres  \n",
            "0        0       1894      \\N               1         Documentary,Short  \n",
            "1        0       1892      \\N               5           Animation,Short  \n",
            "2        0       1892      \\N               4  Animation,Comedy,Romance  \n",
            "3        0       1892      \\N              12           Animation,Short  \n",
            "4        0       1893      \\N               1              Comedy,Short  \n"
          ]
        }
      ]
    },
    {
      "cell_type": "code",
      "source": [
        "condition1 = df_title_Basics5['startYear']>=1990\n",
        "# print(df_title_Basics3[condition1])\n",
        "\n",
        "condition2 = df_title_Basics5['startYear']<2000\n",
        "# print(df_title_Basics3[condition1])\n",
        "\n",
        "condition1et2 = (condition1) & (condition2)\n",
        "\n",
        "df_title_Basics6 = df_title_Basics5[condition1et2]\n",
        "\n",
        "print((df_title_Basics6).head().to_markdown())\n"
      ],
      "metadata": {
        "colab": {
          "base_uri": "https://localhost:8080/"
        },
        "id": "JXJmgQd8nG5T",
        "outputId": "a1d49a64-03e7-40a2-b568-6d0f88f747c9"
      },
      "execution_count": 180,
      "outputs": [
        {
          "output_type": "stream",
          "name": "stdout",
          "text": [
            "|       | tconst    | titleType   | primaryTitle                   | originalTitle                  |   isAdult |   startYear | endYear   |   runtimeMinutes | genres                |\n",
            "|------:|:----------|:------------|:-------------------------------|:-------------------------------|----------:|------------:|:----------|-----------------:|:----------------------|\n",
            "| 15482 | tt0015724 | movie       | Dama de noche                  | Dama de noche                  |         0 |        1993 | \\N        |              102 | Drama,Mystery,Romance |\n",
            "| 40127 | tt0040844 | short       | Crossroads of Laredo           | Crossroads of Laredo           |         0 |        1995 | \\N        |               30 | Short,Western         |\n",
            "| 58184 | tt0059325 | movie       | Born in '45                    | Jahrgang 45                    |         0 |        1990 | \\N        |              100 | Drama,Romance         |\n",
            "| 58738 | tt0059900 | movie       | Wenn du groß bist, lieber Adam | Wenn du groß bist, lieber Adam |         0 |        1990 | \\N        |               78 | Drama,Fantasy         |\n",
            "| 63866 | tt0065188 | movie       | Vojtech, receny sirotek        | Vojtech, receny sirotek        |         0 |        1990 | \\N        |               80 | Drama                 |\n"
          ]
        }
      ]
    },
    {
      "cell_type": "code",
      "source": [
        "print(df_title_Basics6['genres'].value_counts())"
      ],
      "metadata": {
        "colab": {
          "base_uri": "https://localhost:8080/"
        },
        "id": "lYfMkijeOUc1",
        "outputId": "e0670c18-8d5d-4b30-9ee5-9cf7fb007fa0"
      },
      "execution_count": 106,
      "outputs": [
        {
          "output_type": "stream",
          "name": "stdout",
          "text": [
            "Drama                          16629\n",
            "Drama,Romance                  15364\n",
            "Comedy                         12934\n",
            "Documentary                    11763\n",
            "Short                           9896\n",
            "                               ...  \n",
            "Animation,Documentary,Music        1\n",
            "Action,Biography,Western           1\n",
            "Family,Musical,Romance             1\n",
            "Documentary,Family,Western         1\n",
            "Drama,Music,Thriller               1\n",
            "Name: genres, Length: 1070, dtype: int64\n"
          ]
        }
      ]
    },
    {
      "cell_type": "code",
      "source": [
        "print(df_title_Basics6['titleType'].value_counts())"
      ],
      "metadata": {
        "colab": {
          "base_uri": "https://localhost:8080/"
        },
        "id": "n6H5nf58PPjX",
        "outputId": "72539144-9eab-4fac-9eee-3baff85a915e"
      },
      "execution_count": 107,
      "outputs": [
        {
          "output_type": "stream",
          "name": "stdout",
          "text": [
            "tvEpisode       95930\n",
            "movie           31123\n",
            "short           21403\n",
            "tvMovie         12549\n",
            "tvSeries         9859\n",
            "video            9594\n",
            "tvSpecial        1758\n",
            "tvMiniSeries     1542\n",
            "tvShort           939\n",
            "videoGame          38\n",
            "Name: titleType, dtype: int64\n"
          ]
        }
      ]
    },
    {
      "cell_type": "code",
      "source": [
        "condition3 = df_title_Basics5.titleType.isin(['movie'])\n",
        "df_title_Basics7 = df_title_Basics6[condition3]\n",
        "print((df_title_Basics7).head().to_markdown())"
      ],
      "metadata": {
        "colab": {
          "base_uri": "https://localhost:8080/"
        },
        "id": "dzBcduzeRsa9",
        "outputId": "b2b08c58-9989-4f82-dca9-74212357851c"
      },
      "execution_count": 181,
      "outputs": [
        {
          "output_type": "stream",
          "name": "stderr",
          "text": [
            "/usr/local/lib/python3.7/dist-packages/ipykernel_launcher.py:2: UserWarning: Boolean Series key will be reindexed to match DataFrame index.\n",
            "  \n"
          ]
        },
        {
          "output_type": "stream",
          "name": "stdout",
          "text": [
            "|       | tconst    | titleType   | primaryTitle                   | originalTitle                  |   isAdult |   startYear | endYear   |   runtimeMinutes | genres                |\n",
            "|------:|:----------|:------------|:-------------------------------|:-------------------------------|----------:|------------:|:----------|-----------------:|:----------------------|\n",
            "| 15482 | tt0015724 | movie       | Dama de noche                  | Dama de noche                  |         0 |        1993 | \\N        |              102 | Drama,Mystery,Romance |\n",
            "| 58184 | tt0059325 | movie       | Born in '45                    | Jahrgang 45                    |         0 |        1990 | \\N        |              100 | Drama,Romance         |\n",
            "| 58738 | tt0059900 | movie       | Wenn du groß bist, lieber Adam | Wenn du groß bist, lieber Adam |         0 |        1990 | \\N        |               78 | Drama,Fantasy         |\n",
            "| 63866 | tt0065188 | movie       | Vojtech, receny sirotek        | Vojtech, receny sirotek        |         0 |        1990 | \\N        |               80 | Drama                 |\n",
            "| 66087 | tt0067460 | movie       | My Kingdom for...              | My Kingdom For...              |         0 |        1995 | \\N        |               85 | Documentary,Sport     |\n"
          ]
        }
      ]
    },
    {
      "cell_type": "code",
      "source": [
        "# verifier si chaque tconst est bien distinct\n",
        "\n",
        "count_movie_id = df_title_Basics7['tconst'].value_counts()\n",
        "\n",
        "print(count_movie_id)"
      ],
      "metadata": {
        "colab": {
          "base_uri": "https://localhost:8080/"
        },
        "id": "balW4VEOYC58",
        "outputId": "ff6e3e60-3cf4-4104-86bf-850f51c2110e"
      },
      "execution_count": 109,
      "outputs": [
        {
          "output_type": "stream",
          "name": "stdout",
          "text": [
            "tt0015724    1\n",
            "tt0298135    1\n",
            "tt0299502    1\n",
            "tt0299222    1\n",
            "tt0299179    1\n",
            "            ..\n",
            "tt0119169    1\n",
            "tt0119167    1\n",
            "tt0119166    1\n",
            "tt0119165    1\n",
            "tt9916162    1\n",
            "Name: tconst, Length: 31123, dtype: int64\n"
          ]
        }
      ]
    },
    {
      "cell_type": "code",
      "source": [
        "df_title_Basics7.shape"
      ],
      "metadata": {
        "colab": {
          "base_uri": "https://localhost:8080/"
        },
        "id": "89LYy-JTSOV5",
        "outputId": "67e2e265-52d5-42fe-9ef1-f9bdab3a5243"
      },
      "execution_count": 110,
      "outputs": [
        {
          "output_type": "execute_result",
          "data": {
            "text/plain": [
              "(31123, 9)"
            ]
          },
          "metadata": {},
          "execution_count": 110
        }
      ]
    },
    {
      "cell_type": "code",
      "source": [
        "# Suppression des colonnes \"isadult\" et \"endYear\" et 'titleType'\n",
        "\n",
        "df_title_Basics7.drop(columns =['isAdult', 'endYear', 'titleType'], inplace = True)"
      ],
      "metadata": {
        "id": "ObbS4cdveRSB",
        "colab": {
          "base_uri": "https://localhost:8080/",
          "height": 346
        },
        "outputId": "2ae9126b-7f22-4c52-e698-4b65f2f29b3e"
      },
      "execution_count": 183,
      "outputs": [
        {
          "output_type": "error",
          "ename": "KeyError",
          "evalue": "ignored",
          "traceback": [
            "\u001b[0;31m---------------------------------------------------------------------------\u001b[0m",
            "\u001b[0;31mKeyError\u001b[0m                                  Traceback (most recent call last)",
            "\u001b[0;32m<ipython-input-183-6ba48537f6e5>\u001b[0m in \u001b[0;36m<module>\u001b[0;34m\u001b[0m\n\u001b[1;32m      1\u001b[0m \u001b[0;31m# Suppression des colonnes \"isadult\" et \"endYear\" et 'titleType'\u001b[0m\u001b[0;34m\u001b[0m\u001b[0;34m\u001b[0m\u001b[0;34m\u001b[0m\u001b[0m\n\u001b[1;32m      2\u001b[0m \u001b[0;34m\u001b[0m\u001b[0m\n\u001b[0;32m----> 3\u001b[0;31m \u001b[0mdf_title_Basics7\u001b[0m\u001b[0;34m.\u001b[0m\u001b[0mdrop\u001b[0m\u001b[0;34m(\u001b[0m\u001b[0mcolumns\u001b[0m \u001b[0;34m=\u001b[0m\u001b[0;34m[\u001b[0m\u001b[0;34m'isAdult'\u001b[0m\u001b[0;34m,\u001b[0m \u001b[0;34m'endYear'\u001b[0m\u001b[0;34m,\u001b[0m \u001b[0;34m'titleType'\u001b[0m\u001b[0;34m]\u001b[0m\u001b[0;34m,\u001b[0m \u001b[0minplace\u001b[0m \u001b[0;34m=\u001b[0m \u001b[0;32mTrue\u001b[0m\u001b[0;34m)\u001b[0m\u001b[0;34m\u001b[0m\u001b[0;34m\u001b[0m\u001b[0m\n\u001b[0m",
            "\u001b[0;32m/usr/local/lib/python3.7/dist-packages/pandas/util/_decorators.py\u001b[0m in \u001b[0;36mwrapper\u001b[0;34m(*args, **kwargs)\u001b[0m\n\u001b[1;32m    309\u001b[0m                     \u001b[0mstacklevel\u001b[0m\u001b[0;34m=\u001b[0m\u001b[0mstacklevel\u001b[0m\u001b[0;34m,\u001b[0m\u001b[0;34m\u001b[0m\u001b[0;34m\u001b[0m\u001b[0m\n\u001b[1;32m    310\u001b[0m                 )\n\u001b[0;32m--> 311\u001b[0;31m             \u001b[0;32mreturn\u001b[0m \u001b[0mfunc\u001b[0m\u001b[0;34m(\u001b[0m\u001b[0;34m*\u001b[0m\u001b[0margs\u001b[0m\u001b[0;34m,\u001b[0m \u001b[0;34m**\u001b[0m\u001b[0mkwargs\u001b[0m\u001b[0;34m)\u001b[0m\u001b[0;34m\u001b[0m\u001b[0;34m\u001b[0m\u001b[0m\n\u001b[0m\u001b[1;32m    312\u001b[0m \u001b[0;34m\u001b[0m\u001b[0m\n\u001b[1;32m    313\u001b[0m         \u001b[0;32mreturn\u001b[0m \u001b[0mwrapper\u001b[0m\u001b[0;34m\u001b[0m\u001b[0;34m\u001b[0m\u001b[0m\n",
            "\u001b[0;32m/usr/local/lib/python3.7/dist-packages/pandas/core/frame.py\u001b[0m in \u001b[0;36mdrop\u001b[0;34m(self, labels, axis, index, columns, level, inplace, errors)\u001b[0m\n\u001b[1;32m   4911\u001b[0m             \u001b[0mlevel\u001b[0m\u001b[0;34m=\u001b[0m\u001b[0mlevel\u001b[0m\u001b[0;34m,\u001b[0m\u001b[0;34m\u001b[0m\u001b[0;34m\u001b[0m\u001b[0m\n\u001b[1;32m   4912\u001b[0m             \u001b[0minplace\u001b[0m\u001b[0;34m=\u001b[0m\u001b[0minplace\u001b[0m\u001b[0;34m,\u001b[0m\u001b[0;34m\u001b[0m\u001b[0;34m\u001b[0m\u001b[0m\n\u001b[0;32m-> 4913\u001b[0;31m             \u001b[0merrors\u001b[0m\u001b[0;34m=\u001b[0m\u001b[0merrors\u001b[0m\u001b[0;34m,\u001b[0m\u001b[0;34m\u001b[0m\u001b[0;34m\u001b[0m\u001b[0m\n\u001b[0m\u001b[1;32m   4914\u001b[0m         )\n\u001b[1;32m   4915\u001b[0m \u001b[0;34m\u001b[0m\u001b[0m\n",
            "\u001b[0;32m/usr/local/lib/python3.7/dist-packages/pandas/core/generic.py\u001b[0m in \u001b[0;36mdrop\u001b[0;34m(self, labels, axis, index, columns, level, inplace, errors)\u001b[0m\n\u001b[1;32m   4148\u001b[0m         \u001b[0;32mfor\u001b[0m \u001b[0maxis\u001b[0m\u001b[0;34m,\u001b[0m \u001b[0mlabels\u001b[0m \u001b[0;32min\u001b[0m \u001b[0maxes\u001b[0m\u001b[0;34m.\u001b[0m\u001b[0mitems\u001b[0m\u001b[0;34m(\u001b[0m\u001b[0;34m)\u001b[0m\u001b[0;34m:\u001b[0m\u001b[0;34m\u001b[0m\u001b[0;34m\u001b[0m\u001b[0m\n\u001b[1;32m   4149\u001b[0m             \u001b[0;32mif\u001b[0m \u001b[0mlabels\u001b[0m \u001b[0;32mis\u001b[0m \u001b[0;32mnot\u001b[0m \u001b[0;32mNone\u001b[0m\u001b[0;34m:\u001b[0m\u001b[0;34m\u001b[0m\u001b[0;34m\u001b[0m\u001b[0m\n\u001b[0;32m-> 4150\u001b[0;31m                 \u001b[0mobj\u001b[0m \u001b[0;34m=\u001b[0m \u001b[0mobj\u001b[0m\u001b[0;34m.\u001b[0m\u001b[0m_drop_axis\u001b[0m\u001b[0;34m(\u001b[0m\u001b[0mlabels\u001b[0m\u001b[0;34m,\u001b[0m \u001b[0maxis\u001b[0m\u001b[0;34m,\u001b[0m \u001b[0mlevel\u001b[0m\u001b[0;34m=\u001b[0m\u001b[0mlevel\u001b[0m\u001b[0;34m,\u001b[0m \u001b[0merrors\u001b[0m\u001b[0;34m=\u001b[0m\u001b[0merrors\u001b[0m\u001b[0;34m)\u001b[0m\u001b[0;34m\u001b[0m\u001b[0;34m\u001b[0m\u001b[0m\n\u001b[0m\u001b[1;32m   4151\u001b[0m \u001b[0;34m\u001b[0m\u001b[0m\n\u001b[1;32m   4152\u001b[0m         \u001b[0;32mif\u001b[0m \u001b[0minplace\u001b[0m\u001b[0;34m:\u001b[0m\u001b[0;34m\u001b[0m\u001b[0;34m\u001b[0m\u001b[0m\n",
            "\u001b[0;32m/usr/local/lib/python3.7/dist-packages/pandas/core/generic.py\u001b[0m in \u001b[0;36m_drop_axis\u001b[0;34m(self, labels, axis, level, errors)\u001b[0m\n\u001b[1;32m   4183\u001b[0m                 \u001b[0mnew_axis\u001b[0m \u001b[0;34m=\u001b[0m \u001b[0maxis\u001b[0m\u001b[0;34m.\u001b[0m\u001b[0mdrop\u001b[0m\u001b[0;34m(\u001b[0m\u001b[0mlabels\u001b[0m\u001b[0;34m,\u001b[0m \u001b[0mlevel\u001b[0m\u001b[0;34m=\u001b[0m\u001b[0mlevel\u001b[0m\u001b[0;34m,\u001b[0m \u001b[0merrors\u001b[0m\u001b[0;34m=\u001b[0m\u001b[0merrors\u001b[0m\u001b[0;34m)\u001b[0m\u001b[0;34m\u001b[0m\u001b[0;34m\u001b[0m\u001b[0m\n\u001b[1;32m   4184\u001b[0m             \u001b[0;32melse\u001b[0m\u001b[0;34m:\u001b[0m\u001b[0;34m\u001b[0m\u001b[0;34m\u001b[0m\u001b[0m\n\u001b[0;32m-> 4185\u001b[0;31m                 \u001b[0mnew_axis\u001b[0m \u001b[0;34m=\u001b[0m \u001b[0maxis\u001b[0m\u001b[0;34m.\u001b[0m\u001b[0mdrop\u001b[0m\u001b[0;34m(\u001b[0m\u001b[0mlabels\u001b[0m\u001b[0;34m,\u001b[0m \u001b[0merrors\u001b[0m\u001b[0;34m=\u001b[0m\u001b[0merrors\u001b[0m\u001b[0;34m)\u001b[0m\u001b[0;34m\u001b[0m\u001b[0;34m\u001b[0m\u001b[0m\n\u001b[0m\u001b[1;32m   4186\u001b[0m             \u001b[0mresult\u001b[0m \u001b[0;34m=\u001b[0m \u001b[0mself\u001b[0m\u001b[0;34m.\u001b[0m\u001b[0mreindex\u001b[0m\u001b[0;34m(\u001b[0m\u001b[0;34m**\u001b[0m\u001b[0;34m{\u001b[0m\u001b[0maxis_name\u001b[0m\u001b[0;34m:\u001b[0m \u001b[0mnew_axis\u001b[0m\u001b[0;34m}\u001b[0m\u001b[0;34m)\u001b[0m\u001b[0;34m\u001b[0m\u001b[0;34m\u001b[0m\u001b[0m\n\u001b[1;32m   4187\u001b[0m \u001b[0;34m\u001b[0m\u001b[0m\n",
            "\u001b[0;32m/usr/local/lib/python3.7/dist-packages/pandas/core/indexes/base.py\u001b[0m in \u001b[0;36mdrop\u001b[0;34m(self, labels, errors)\u001b[0m\n\u001b[1;32m   6015\u001b[0m         \u001b[0;32mif\u001b[0m \u001b[0mmask\u001b[0m\u001b[0;34m.\u001b[0m\u001b[0many\u001b[0m\u001b[0;34m(\u001b[0m\u001b[0;34m)\u001b[0m\u001b[0;34m:\u001b[0m\u001b[0;34m\u001b[0m\u001b[0;34m\u001b[0m\u001b[0m\n\u001b[1;32m   6016\u001b[0m             \u001b[0;32mif\u001b[0m \u001b[0merrors\u001b[0m \u001b[0;34m!=\u001b[0m \u001b[0;34m\"ignore\"\u001b[0m\u001b[0;34m:\u001b[0m\u001b[0;34m\u001b[0m\u001b[0;34m\u001b[0m\u001b[0m\n\u001b[0;32m-> 6017\u001b[0;31m                 \u001b[0;32mraise\u001b[0m \u001b[0mKeyError\u001b[0m\u001b[0;34m(\u001b[0m\u001b[0;34mf\"{labels[mask]} not found in axis\"\u001b[0m\u001b[0;34m)\u001b[0m\u001b[0;34m\u001b[0m\u001b[0;34m\u001b[0m\u001b[0m\n\u001b[0m\u001b[1;32m   6018\u001b[0m             \u001b[0mindexer\u001b[0m \u001b[0;34m=\u001b[0m \u001b[0mindexer\u001b[0m\u001b[0;34m[\u001b[0m\u001b[0;34m~\u001b[0m\u001b[0mmask\u001b[0m\u001b[0;34m]\u001b[0m\u001b[0;34m\u001b[0m\u001b[0;34m\u001b[0m\u001b[0m\n\u001b[1;32m   6019\u001b[0m         \u001b[0;32mreturn\u001b[0m \u001b[0mself\u001b[0m\u001b[0;34m.\u001b[0m\u001b[0mdelete\u001b[0m\u001b[0;34m(\u001b[0m\u001b[0mindexer\u001b[0m\u001b[0;34m)\u001b[0m\u001b[0;34m\u001b[0m\u001b[0;34m\u001b[0m\u001b[0m\n",
            "\u001b[0;31mKeyError\u001b[0m: \"['isAdult' 'endYear' 'titleType'] not found in axis\""
          ]
        }
      ]
    },
    {
      "cell_type": "code",
      "source": [
        "df_title_Basics7.sort_values(['startYear'], ascending=True, inplace=True)"
      ],
      "metadata": {
        "colab": {
          "base_uri": "https://localhost:8080/"
        },
        "id": "-VXDA_gxMm3c",
        "outputId": "24d6caf9-d050-4585-9cc5-e63b88182a2d"
      },
      "execution_count": 184,
      "outputs": [
        {
          "output_type": "stream",
          "name": "stderr",
          "text": [
            "/usr/local/lib/python3.7/dist-packages/pandas/util/_decorators.py:311: SettingWithCopyWarning: \n",
            "A value is trying to be set on a copy of a slice from a DataFrame\n",
            "\n",
            "See the caveats in the documentation: https://pandas.pydata.org/pandas-docs/stable/user_guide/indexing.html#returning-a-view-versus-a-copy\n",
            "  return func(*args, **kwargs)\n"
          ]
        }
      ]
    },
    {
      "cell_type": "code",
      "source": [
        "print((df_title_Basics7).head().to_markdown())"
      ],
      "metadata": {
        "colab": {
          "base_uri": "https://localhost:8080/"
        },
        "id": "IVVstansNA0h",
        "outputId": "805e5354-99b8-4679-855e-ca5e16dd8829"
      },
      "execution_count": 185,
      "outputs": [
        {
          "output_type": "stream",
          "name": "stdout",
          "text": [
            "|         | tconst    | primaryTitle                      | originalTitle                     |   startYear |   runtimeMinutes | genres            |\n",
            "|--------:|:----------|:----------------------------------|:----------------------------------|------------:|-----------------:|:------------------|\n",
            "| 6010962 | tt2539182 | Code Name 348: Onna keiji sashiba | Code Name 348: Onna keiji sashiba |        1990 |               80 | Crime             |\n",
            "| 5402844 | tt2113678 | Hick's Last Stand                 | Hick's Last Stand                 |        1990 |               76 | Drama             |\n",
            "| 6701474 | tt4148716 | Uranium                           | Uranium                           |        1990 |               49 | Documentary       |\n",
            "|  206072 | tt0214901 | Magic Boat                        | Magic Boat                        |        1990 |               50 | Family,Fantasy    |\n",
            "| 6694460 | tt4132614 | Sinovi                            | Sinovi                            |        1990 |               50 | Documentary,Drama |\n"
          ]
        }
      ]
    },
    {
      "cell_type": "code",
      "source": [
        "print(df_title_Basics7['genres'].value_counts())"
      ],
      "metadata": {
        "colab": {
          "base_uri": "https://localhost:8080/"
        },
        "id": "ZZUT-jcBZGrV",
        "outputId": "933a4816-068b-4fcf-cac9-e7e4d0c24e72"
      },
      "execution_count": 186,
      "outputs": [
        {
          "output_type": "stream",
          "name": "stdout",
          "text": [
            "Drama                         5157\n",
            "Documentary                   4302\n",
            "\\N                            3267\n",
            "Comedy                        2265\n",
            "Comedy,Drama                   986\n",
            "                              ... \n",
            "Animation,Sport                  1\n",
            "Animation,Music                  1\n",
            "Drama,Short                      1\n",
            "Documentary,Family,Musical       1\n",
            "Comedy,Horror,Music              1\n",
            "Name: genres, Length: 590, dtype: int64\n"
          ]
        }
      ]
    },
    {
      "cell_type": "code",
      "source": [
        "df_title_Basics7['genres'] = df_title_Basics7.genres.str.replace('\\\\N','unknown',regex = False)\n"
      ],
      "metadata": {
        "colab": {
          "base_uri": "https://localhost:8080/"
        },
        "id": "T1KJqKcOm8Pr",
        "outputId": "4f1569c2-03d6-4ec4-db49-2127cd99a729"
      },
      "execution_count": 192,
      "outputs": [
        {
          "output_type": "stream",
          "name": "stderr",
          "text": [
            "/usr/local/lib/python3.7/dist-packages/ipykernel_launcher.py:1: SettingWithCopyWarning: \n",
            "A value is trying to be set on a copy of a slice from a DataFrame.\n",
            "Try using .loc[row_indexer,col_indexer] = value instead\n",
            "\n",
            "See the caveats in the documentation: https://pandas.pydata.org/pandas-docs/stable/user_guide/indexing.html#returning-a-view-versus-a-copy\n",
            "  \"\"\"Entry point for launching an IPython kernel.\n"
          ]
        }
      ]
    },
    {
      "cell_type": "code",
      "source": [
        "# test = df_title_Basics7[df_title_Basics7['genres'] != 'unknown']\n",
        "df_title_Basics8 = df_title_Basics7[df_title_Basics7['genres'] != 'unknown']"
      ],
      "metadata": {
        "id": "Ia-ndHqmZTf1"
      },
      "execution_count": 195,
      "outputs": []
    },
    {
      "cell_type": "code",
      "source": [
        "print(df_title_Basics8.head())"
      ],
      "metadata": {
        "colab": {
          "base_uri": "https://localhost:8080/"
        },
        "id": "PBuWpYWBpNj0",
        "outputId": "04d28761-02ae-4fe2-8ea0-29fc360689ed"
      },
      "execution_count": 196,
      "outputs": [
        {
          "output_type": "stream",
          "name": "stdout",
          "text": [
            "            tconst                       primaryTitle  \\\n",
            "6010962  tt2539182  Code Name 348: Onna keiji sashiba   \n",
            "5402844  tt2113678                  Hick's Last Stand   \n",
            "6701474  tt4148716                            Uranium   \n",
            "206072   tt0214901                         Magic Boat   \n",
            "6694460  tt4132614                             Sinovi   \n",
            "\n",
            "                             originalTitle  startYear  runtimeMinutes  \\\n",
            "6010962  Code Name 348: Onna keiji sashiba       1990              80   \n",
            "5402844                  Hick's Last Stand       1990              76   \n",
            "6701474                            Uranium       1990              49   \n",
            "206072                          Magic Boat       1990              50   \n",
            "6694460                             Sinovi       1990              50   \n",
            "\n",
            "                    genres  \n",
            "6010962              Crime  \n",
            "5402844              Drama  \n",
            "6701474        Documentary  \n",
            "206072      Family,Fantasy  \n",
            "6694460  Documentary,Drama  \n"
          ]
        }
      ]
    },
    {
      "cell_type": "code",
      "source": [
        "# conditionx = (df_title_Basics7['runtimeMinutes'] < 40) | (df_title_Basics7['runtimeMinutes'] > 180)\n",
        "\n",
        "# print((df_title_Basics7[conditionx].groupby(['startYear','runtimeMinutes']).head().to_markdown()))"
      ],
      "metadata": {
        "id": "S7f3IAWFNQmG"
      },
      "execution_count": null,
      "outputs": []
    },
    {
      "cell_type": "code",
      "source": [
        "# test = df_title_Basics8['genres'].str.split(',')\n",
        "df_title_Basics8['genres'] = df_title_Basics8['genres'].str.split(',')"
      ],
      "metadata": {
        "colab": {
          "base_uri": "https://localhost:8080/"
        },
        "id": "Th1mrQjRU0Gq",
        "outputId": "4e6ab821-0433-46f0-9f58-323a3e373d5c"
      },
      "execution_count": 199,
      "outputs": [
        {
          "output_type": "stream",
          "name": "stderr",
          "text": [
            "/usr/local/lib/python3.7/dist-packages/ipykernel_launcher.py:2: SettingWithCopyWarning: \n",
            "A value is trying to be set on a copy of a slice from a DataFrame.\n",
            "Try using .loc[row_indexer,col_indexer] = value instead\n",
            "\n",
            "See the caveats in the documentation: https://pandas.pydata.org/pandas-docs/stable/user_guide/indexing.html#returning-a-view-versus-a-copy\n",
            "  \n"
          ]
        }
      ]
    },
    {
      "cell_type": "code",
      "source": [
        "print(df_title_Basics8.head())"
      ],
      "metadata": {
        "colab": {
          "base_uri": "https://localhost:8080/"
        },
        "id": "bRBKhphppsYO",
        "outputId": "0a69dba0-952d-4f69-e3fa-6507a82e5da3"
      },
      "execution_count": 200,
      "outputs": [
        {
          "output_type": "stream",
          "name": "stdout",
          "text": [
            "            tconst                       primaryTitle  \\\n",
            "6010962  tt2539182  Code Name 348: Onna keiji sashiba   \n",
            "5402844  tt2113678                  Hick's Last Stand   \n",
            "6701474  tt4148716                            Uranium   \n",
            "206072   tt0214901                         Magic Boat   \n",
            "6694460  tt4132614                             Sinovi   \n",
            "\n",
            "                             originalTitle  startYear  runtimeMinutes  \\\n",
            "6010962  Code Name 348: Onna keiji sashiba       1990              80   \n",
            "5402844                  Hick's Last Stand       1990              76   \n",
            "6701474                            Uranium       1990              49   \n",
            "206072                          Magic Boat       1990              50   \n",
            "6694460                             Sinovi       1990              50   \n",
            "\n",
            "                       genres  \n",
            "6010962               [Crime]  \n",
            "5402844               [Drama]  \n",
            "6701474         [Documentary]  \n",
            "206072      [Family, Fantasy]  \n",
            "6694460  [Documentary, Drama]  \n"
          ]
        }
      ]
    },
    {
      "cell_type": "code",
      "source": [
        "serie_explode = df_title_Basics8.genres.explode()"
      ],
      "metadata": {
        "id": "fsLOoPmOptrM"
      },
      "execution_count": 202,
      "outputs": []
    },
    {
      "cell_type": "code",
      "source": [
        "print(serie_explode.value_counts())"
      ],
      "metadata": {
        "colab": {
          "base_uri": "https://localhost:8080/"
        },
        "id": "MOU_zTrJqQsr",
        "outputId": "949aeddc-f9cc-41e2-a2ff-a6e84791f2ea"
      },
      "execution_count": 203,
      "outputs": [
        {
          "output_type": "stream",
          "name": "stdout",
          "text": [
            "Drama          12670\n",
            "Comedy          6832\n",
            "Documentary     5211\n",
            "Action          3965\n",
            "Romance         3165\n",
            "Crime           2806\n",
            "Thriller        2522\n",
            "Horror          1408\n",
            "Adventure       1227\n",
            "Fantasy          970\n",
            "Family           944\n",
            "Mystery          854\n",
            "Sci-Fi           716\n",
            "Biography        701\n",
            "History          608\n",
            "Music            584\n",
            "War              471\n",
            "Animation        434\n",
            "Musical          290\n",
            "Sport            264\n",
            "Western           99\n",
            "Reality-TV         6\n",
            "Talk-Show          5\n",
            "Adult              4\n",
            "News               2\n",
            "Short              2\n",
            "Name: genres, dtype: int64\n"
          ]
        }
      ]
    },
    {
      "cell_type": "code",
      "source": [
        "df_title_Basics8.to_csv('/content/drive/MyDrive/2209-Data/Projets/Projet2/RAM/En_cours/clean_data/alexis_title_basics_v3.csv', index=False)"
      ],
      "metadata": {
        "id": "TZeU9wsbqY60"
      },
      "execution_count": 204,
      "outputs": []
    }
  ]
}