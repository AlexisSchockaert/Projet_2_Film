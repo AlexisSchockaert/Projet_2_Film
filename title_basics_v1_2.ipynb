{
  "nbformat": 4,
  "nbformat_minor": 0,
  "metadata": {
    "colab": {
      "provenance": [],
      "collapsed_sections": [],
      "include_colab_link": true
    },
    "kernelspec": {
      "name": "python3",
      "display_name": "Python 3"
    },
    "language_info": {
      "name": "python"
    }
  },
  "cells": [
    {
      "cell_type": "markdown",
      "metadata": {
        "id": "view-in-github",
        "colab_type": "text"
      },
      "source": [
        "<a href=\"https://colab.research.google.com/github/AlexisSchockaert/Projet_2_Film/blob/Branche_Alexis/title_basics_v1_2.ipynb\" target=\"_parent\"><img src=\"https://colab.research.google.com/assets/colab-badge.svg\" alt=\"Open In Colab\"/></a>"
      ]
    },
    {
      "cell_type": "code",
      "execution_count": null,
      "metadata": {
        "colab": {
          "base_uri": "https://localhost:8080/"
        },
        "id": "TVqmIt844AHO",
        "outputId": "7be9da97-9b0a-4ce6-bfb1-fcb736268973"
      },
      "outputs": [
        {
          "output_type": "stream",
          "name": "stdout",
          "text": [
            "Drive already mounted at /content/drive; to attempt to forcibly remount, call drive.mount(\"/content/drive\", force_remount=True).\n"
          ]
        }
      ],
      "source": [
        "from google.colab import drive\n",
        "drive.mount('/content/drive')"
      ]
    },
    {
      "cell_type": "code",
      "source": [
        "import pandas as pd"
      ],
      "metadata": {
        "id": "qF65l6JYIWyc"
      },
      "execution_count": null,
      "outputs": []
    },
    {
      "cell_type": "code",
      "source": [
        "import warnings\n",
        "warnings.filterwarnings(\"ignore\")"
      ],
      "metadata": {
        "id": "ngru0IVCvQGg"
      },
      "execution_count": null,
      "outputs": []
    },
    {
      "cell_type": "code",
      "source": [
        "df_title_Basics = pd.read_csv(\"https://datasets.imdbws.com/title.basics.tsv.gz\", sep = \"\\t\")\n"
      ],
      "metadata": {
        "id": "X0XmGAmz61Th"
      },
      "execution_count": null,
      "outputs": []
    },
    {
      "cell_type": "code",
      "source": [
        "print(df_title_Basics.head().to_markdown())"
      ],
      "metadata": {
        "id": "H4U-dWnq-bP8"
      },
      "execution_count": null,
      "outputs": []
    },
    {
      "cell_type": "code",
      "source": [
        "# Remplacer \"\\N\" par \"None\" dans la série \"startYear\"\n",
        "df_title_Basics['startYear'].replace({r'\\N': None},inplace =True)"
      ],
      "metadata": {
        "id": "warkcGZ1yIMk"
      },
      "execution_count": null,
      "outputs": []
    },
    {
      "cell_type": "code",
      "source": [
        "# Créer un df à partir du précédent en ne conservant que les données non nulles de la colonnes \"startYear\" \n",
        "df_title_Basics2=df_title_Basics[pd.notnull(df_title_Basics['startYear'])]"
      ],
      "metadata": {
        "id": "MnwiE_0ZzKla"
      },
      "execution_count": null,
      "outputs": []
    },
    {
      "cell_type": "code",
      "source": [
        "df_title_Basics2['startYear'].value_counts()"
      ],
      "metadata": {
        "colab": {
          "base_uri": "https://localhost:8080/"
        },
        "id": "G0nVZsqqMczc",
        "outputId": "7b40957a-867f-43c8-f38f-45e58c9d9db1"
      },
      "execution_count": null,
      "outputs": [
        {
          "output_type": "execute_result",
          "data": {
            "text/plain": [
              "2021    433672\n",
              "2018    423596\n",
              "2017    420345\n",
              "2019    412182\n",
              "2016    398836\n",
              "         ...  \n",
              "1882         2\n",
              "1881         2\n",
              "1874         1\n",
              "1883         1\n",
              "1885         1\n",
              "Name: startYear, Length: 150, dtype: int64"
            ]
          },
          "metadata": {},
          "execution_count": 9
        }
      ]
    },
    {
      "cell_type": "code",
      "source": [
        "# Transformer les données de la colonne \"startYear\" en int\n",
        "df_title_Basics2['startYear'] = df_title_Basics2['startYear'].astype(int)"
      ],
      "metadata": {
        "colab": {
          "base_uri": "https://localhost:8080/"
        },
        "id": "QlQAAoo1V8QG",
        "outputId": "61ff549f-3e5c-417b-eb4c-18df794e2537"
      },
      "execution_count": null,
      "outputs": [
        {
          "output_type": "stream",
          "name": "stderr",
          "text": [
            "/usr/local/lib/python3.7/dist-packages/ipykernel_launcher.py:2: SettingWithCopyWarning: \n",
            "A value is trying to be set on a copy of a slice from a DataFrame.\n",
            "Try using .loc[row_indexer,col_indexer] = value instead\n",
            "\n",
            "See the caveats in the documentation: https://pandas.pydata.org/pandas-docs/stable/user_guide/indexing.html#returning-a-view-versus-a-copy\n",
            "  \n"
          ]
        }
      ]
    },
    {
      "cell_type": "code",
      "source": [
        "# df_title_Basics2['startYear'] = df_title_Basics2['startYear'].apply(lambda x: eval(x.strip()))\n",
        "\n",
        "\"\"\"\n",
        "def convert_type(x):\n",
        "  return eval(x.strip())\n",
        "\"\"\""
      ],
      "metadata": {
        "id": "y2A4c31zabnQ"
      },
      "execution_count": null,
      "outputs": []
    },
    {
      "cell_type": "code",
      "source": [
        "# Remplacer \"\\N\" par \"None\" dans la série \"startYear\"\n",
        "df_title_Basics2['runtimeMinutes'].replace({r\"\\N\" : None}, inplace = True)"
      ],
      "metadata": {
        "colab": {
          "base_uri": "https://localhost:8080/"
        },
        "id": "t_y4xT3QckaS",
        "outputId": "0fc0426e-8028-4091-8041-2bd6bbbdea24"
      },
      "execution_count": null,
      "outputs": [
        {
          "output_type": "stream",
          "name": "stderr",
          "text": [
            "/usr/local/lib/python3.7/dist-packages/pandas/core/generic.py:6619: SettingWithCopyWarning: \n",
            "A value is trying to be set on a copy of a slice from a DataFrame\n",
            "\n",
            "See the caveats in the documentation: https://pandas.pydata.org/pandas-docs/stable/user_guide/indexing.html#returning-a-view-versus-a-copy\n",
            "  return self._update_inplace(result)\n"
          ]
        }
      ]
    },
    {
      "cell_type": "code",
      "source": [
        "# Créer un df à partir du précédent en ne conservant que les données non nulles de la colonnes \"runtimeMinutes\" \n",
        "df_title_Basics3 = df_title_Basics2[pd.notnull(df_title_Basics2['runtimeMinutes'])]"
      ],
      "metadata": {
        "id": "tgKC5aUUgP6_"
      },
      "execution_count": null,
      "outputs": []
    },
    {
      "cell_type": "code",
      "source": [
        "# Transformer les données de la colonne \"runtimeMinutes\" en int\n",
        "df_title_Basics3['runtimeMinutes'] = df_title_Basics3['runtimeMinutes'].astype(int)"
      ],
      "metadata": {
        "colab": {
          "base_uri": "https://localhost:8080/"
        },
        "id": "ZYOthGz1u7y3",
        "outputId": "be864885-aeb6-4cc5-850f-21168221ecbe"
      },
      "execution_count": null,
      "outputs": [
        {
          "output_type": "stream",
          "name": "stderr",
          "text": [
            "/usr/local/lib/python3.7/dist-packages/ipykernel_launcher.py:1: SettingWithCopyWarning: \n",
            "A value is trying to be set on a copy of a slice from a DataFrame.\n",
            "Try using .loc[row_indexer,col_indexer] = value instead\n",
            "\n",
            "See the caveats in the documentation: https://pandas.pydata.org/pandas-docs/stable/user_guide/indexing.html#returning-a-view-versus-a-copy\n",
            "  \"\"\"Entry point for launching an IPython kernel.\n"
          ]
        }
      ]
    },
    {
      "cell_type": "code",
      "source": [
        "df_title_Basics3.info()"
      ],
      "metadata": {
        "id": "eGxUEvR5aqRB"
      },
      "execution_count": null,
      "outputs": []
    },
    {
      "cell_type": "code",
      "source": [
        "# Remplacer \"\\N\" par \"None\" dans la série \"startYear\"\n",
        "df_title_Basics3['isAdult'].replace({r'\\N': None},inplace =True)"
      ],
      "metadata": {
        "id": "oqMXW4jF-5Wh"
      },
      "execution_count": null,
      "outputs": []
    },
    {
      "cell_type": "code",
      "source": [
        "# Créer un df à partir du précédent en ne conservant que les données non nulles de la colonnes \"isAdult\" \n",
        "df_title_Basics4=df_title_Basics3[pd.notnull(df_title_Basics3['isAdult'])]"
      ],
      "metadata": {
        "id": "UZdvCV8Z-_Pr"
      },
      "execution_count": null,
      "outputs": []
    },
    {
      "cell_type": "code",
      "source": [
        "df_title_Basics5 = df_title_Basics4[df_title_Basics4['isAdult']==False]"
      ],
      "metadata": {
        "id": "nc1sfgf0MNMb"
      },
      "execution_count": null,
      "outputs": []
    },
    {
      "cell_type": "code",
      "source": [
        "print(df_title_Basics5.head())"
      ],
      "metadata": {
        "id": "vBuOy-JnYDYp"
      },
      "execution_count": null,
      "outputs": []
    },
    {
      "cell_type": "code",
      "source": [
        "df_title_Basics5.info()"
      ],
      "metadata": {
        "id": "QMpDpNnbRhrh"
      },
      "execution_count": null,
      "outputs": []
    },
    {
      "cell_type": "code",
      "source": [
        "print(df_title_Basics5.head())"
      ],
      "metadata": {
        "id": "mPoJGO8tMr0i"
      },
      "execution_count": null,
      "outputs": []
    },
    {
      "cell_type": "code",
      "source": [
        "condition1 = df_title_Basics5['startYear']>=1990\n",
        "# print(df_title_Basics3[condition1])\n",
        "\n",
        "condition2 = df_title_Basics5['startYear']<2000\n",
        "# print(df_title_Basics3[condition1])\n",
        "\n",
        "condition1et2 = (condition1) & (condition2)\n",
        "\n",
        "df_title_Basics6 = df_title_Basics5[condition1et2]\n",
        "\n",
        "print((df_title_Basics6).head().to_markdown())\n"
      ],
      "metadata": {
        "colab": {
          "base_uri": "https://localhost:8080/"
        },
        "id": "JXJmgQd8nG5T",
        "outputId": "a1d49a64-03e7-40a2-b568-6d0f88f747c9"
      },
      "execution_count": null,
      "outputs": [
        {
          "output_type": "stream",
          "name": "stdout",
          "text": [
            "|       | tconst    | titleType   | primaryTitle                   | originalTitle                  |   isAdult |   startYear | endYear   |   runtimeMinutes | genres                |\n",
            "|------:|:----------|:------------|:-------------------------------|:-------------------------------|----------:|------------:|:----------|-----------------:|:----------------------|\n",
            "| 15482 | tt0015724 | movie       | Dama de noche                  | Dama de noche                  |         0 |        1993 | \\N        |              102 | Drama,Mystery,Romance |\n",
            "| 40127 | tt0040844 | short       | Crossroads of Laredo           | Crossroads of Laredo           |         0 |        1995 | \\N        |               30 | Short,Western         |\n",
            "| 58184 | tt0059325 | movie       | Born in '45                    | Jahrgang 45                    |         0 |        1990 | \\N        |              100 | Drama,Romance         |\n",
            "| 58738 | tt0059900 | movie       | Wenn du groß bist, lieber Adam | Wenn du groß bist, lieber Adam |         0 |        1990 | \\N        |               78 | Drama,Fantasy         |\n",
            "| 63866 | tt0065188 | movie       | Vojtech, receny sirotek        | Vojtech, receny sirotek        |         0 |        1990 | \\N        |               80 | Drama                 |\n"
          ]
        }
      ]
    },
    {
      "cell_type": "code",
      "source": [
        "print(df_title_Basics6['genres'].value_counts())"
      ],
      "metadata": {
        "colab": {
          "base_uri": "https://localhost:8080/"
        },
        "id": "lYfMkijeOUc1",
        "outputId": "e0670c18-8d5d-4b30-9ee5-9cf7fb007fa0"
      },
      "execution_count": null,
      "outputs": [
        {
          "output_type": "stream",
          "name": "stdout",
          "text": [
            "Drama                          16629\n",
            "Drama,Romance                  15364\n",
            "Comedy                         12934\n",
            "Documentary                    11763\n",
            "Short                           9896\n",
            "                               ...  \n",
            "Animation,Documentary,Music        1\n",
            "Action,Biography,Western           1\n",
            "Family,Musical,Romance             1\n",
            "Documentary,Family,Western         1\n",
            "Drama,Music,Thriller               1\n",
            "Name: genres, Length: 1070, dtype: int64\n"
          ]
        }
      ]
    },
    {
      "cell_type": "code",
      "source": [
        "print(df_title_Basics6['titleType'].value_counts())"
      ],
      "metadata": {
        "colab": {
          "base_uri": "https://localhost:8080/"
        },
        "id": "n6H5nf58PPjX",
        "outputId": "72539144-9eab-4fac-9eee-3baff85a915e"
      },
      "execution_count": null,
      "outputs": [
        {
          "output_type": "stream",
          "name": "stdout",
          "text": [
            "tvEpisode       95930\n",
            "movie           31123\n",
            "short           21403\n",
            "tvMovie         12549\n",
            "tvSeries         9859\n",
            "video            9594\n",
            "tvSpecial        1758\n",
            "tvMiniSeries     1542\n",
            "tvShort           939\n",
            "videoGame          38\n",
            "Name: titleType, dtype: int64\n"
          ]
        }
      ]
    },
    {
      "cell_type": "code",
      "source": [
        "# Créer un df à partir du précédent en ne conservant que \"movie\" de la colonnes \"titleType\" \n",
        "condition3 = df_title_Basics5.titleType.isin(['movie'])\n",
        "df_title_Basics7 = df_title_Basics6[condition3]\n"
      ],
      "metadata": {
        "id": "dzBcduzeRsa9"
      },
      "execution_count": null,
      "outputs": []
    },
    {
      "cell_type": "code",
      "source": [
        "print((df_title_Basics7).head().to_markdown())"
      ],
      "metadata": {
        "id": "t7OTJfg6B7Ec"
      },
      "execution_count": null,
      "outputs": []
    },
    {
      "cell_type": "code",
      "source": [
        "# verifier si chaque tconst est bien distinct\n",
        "count_movie_id = df_title_Basics7['tconst'].value_counts()\n",
        "print(count_movie_id)"
      ],
      "metadata": {
        "id": "balW4VEOYC58"
      },
      "execution_count": null,
      "outputs": []
    },
    {
      "cell_type": "code",
      "source": [
        "df_title_Basics7.shape"
      ],
      "metadata": {
        "colab": {
          "base_uri": "https://localhost:8080/"
        },
        "id": "89LYy-JTSOV5",
        "outputId": "67e2e265-52d5-42fe-9ef1-f9bdab3a5243"
      },
      "execution_count": null,
      "outputs": [
        {
          "output_type": "execute_result",
          "data": {
            "text/plain": [
              "(31123, 9)"
            ]
          },
          "metadata": {},
          "execution_count": 110
        }
      ]
    },
    {
      "cell_type": "code",
      "source": [
        "# Suppression des colonnes \"isadult\" + \"endYear\" + \"titleType\"\n",
        "df_title_Basics7.drop(columns =['isAdult', 'endYear', 'titleType'], inplace = True)"
      ],
      "metadata": {
        "id": "ObbS4cdveRSB"
      },
      "execution_count": null,
      "outputs": []
    },
    {
      "cell_type": "code",
      "source": [
        "df_title_Basics7.sort_values(['startYear'], ascending=True, inplace=True)"
      ],
      "metadata": {
        "colab": {
          "base_uri": "https://localhost:8080/"
        },
        "id": "-VXDA_gxMm3c",
        "outputId": "24d6caf9-d050-4585-9cc5-e63b88182a2d"
      },
      "execution_count": null,
      "outputs": [
        {
          "output_type": "stream",
          "name": "stderr",
          "text": [
            "/usr/local/lib/python3.7/dist-packages/pandas/util/_decorators.py:311: SettingWithCopyWarning: \n",
            "A value is trying to be set on a copy of a slice from a DataFrame\n",
            "\n",
            "See the caveats in the documentation: https://pandas.pydata.org/pandas-docs/stable/user_guide/indexing.html#returning-a-view-versus-a-copy\n",
            "  return func(*args, **kwargs)\n"
          ]
        }
      ]
    },
    {
      "cell_type": "code",
      "source": [
        "print((df_title_Basics7).head().to_markdown())"
      ],
      "metadata": {
        "colab": {
          "base_uri": "https://localhost:8080/"
        },
        "id": "IVVstansNA0h",
        "outputId": "805e5354-99b8-4679-855e-ca5e16dd8829"
      },
      "execution_count": null,
      "outputs": [
        {
          "output_type": "stream",
          "name": "stdout",
          "text": [
            "|         | tconst    | primaryTitle                      | originalTitle                     |   startYear |   runtimeMinutes | genres            |\n",
            "|--------:|:----------|:----------------------------------|:----------------------------------|------------:|-----------------:|:------------------|\n",
            "| 6010962 | tt2539182 | Code Name 348: Onna keiji sashiba | Code Name 348: Onna keiji sashiba |        1990 |               80 | Crime             |\n",
            "| 5402844 | tt2113678 | Hick's Last Stand                 | Hick's Last Stand                 |        1990 |               76 | Drama             |\n",
            "| 6701474 | tt4148716 | Uranium                           | Uranium                           |        1990 |               49 | Documentary       |\n",
            "|  206072 | tt0214901 | Magic Boat                        | Magic Boat                        |        1990 |               50 | Family,Fantasy    |\n",
            "| 6694460 | tt4132614 | Sinovi                            | Sinovi                            |        1990 |               50 | Documentary,Drama |\n"
          ]
        }
      ]
    },
    {
      "cell_type": "code",
      "source": [
        "print(df_title_Basics7['genres'].value_counts())"
      ],
      "metadata": {
        "colab": {
          "base_uri": "https://localhost:8080/"
        },
        "id": "ZZUT-jcBZGrV",
        "outputId": "933a4816-068b-4fcf-cac9-e7e4d0c24e72"
      },
      "execution_count": null,
      "outputs": [
        {
          "output_type": "stream",
          "name": "stdout",
          "text": [
            "Drama                         5157\n",
            "Documentary                   4302\n",
            "\\N                            3267\n",
            "Comedy                        2265\n",
            "Comedy,Drama                   986\n",
            "                              ... \n",
            "Animation,Sport                  1\n",
            "Animation,Music                  1\n",
            "Drama,Short                      1\n",
            "Documentary,Family,Musical       1\n",
            "Comedy,Horror,Music              1\n",
            "Name: genres, Length: 590, dtype: int64\n"
          ]
        }
      ]
    },
    {
      "cell_type": "code",
      "source": [
        "# Remplacer \"\\N\" par \"unknown\" (None ne fonctionne pas) dans la série \"startYear\"\n",
        "df_title_Basics7['genres'] = df_title_Basics7.genres.str.replace('\\\\N','unknown',regex = False)\n"
      ],
      "metadata": {
        "colab": {
          "base_uri": "https://localhost:8080/"
        },
        "id": "T1KJqKcOm8Pr",
        "outputId": "4f1569c2-03d6-4ec4-db49-2127cd99a729"
      },
      "execution_count": null,
      "outputs": [
        {
          "output_type": "stream",
          "name": "stderr",
          "text": [
            "/usr/local/lib/python3.7/dist-packages/ipykernel_launcher.py:1: SettingWithCopyWarning: \n",
            "A value is trying to be set on a copy of a slice from a DataFrame.\n",
            "Try using .loc[row_indexer,col_indexer] = value instead\n",
            "\n",
            "See the caveats in the documentation: https://pandas.pydata.org/pandas-docs/stable/user_guide/indexing.html#returning-a-view-versus-a-copy\n",
            "  \"\"\"Entry point for launching an IPython kernel.\n"
          ]
        }
      ]
    },
    {
      "cell_type": "code",
      "source": [
        "# Créer un df à partir du précédent en ne conservant que les données différentes de \"unknown\" de la colonnes \"genres\" \n",
        "# test = df_title_Basics7[df_title_Basics7['genres'] != 'unknown']\n",
        "df_title_Basics8 = df_title_Basics7[df_title_Basics7['genres'] != 'unknown']"
      ],
      "metadata": {
        "id": "Ia-ndHqmZTf1"
      },
      "execution_count": null,
      "outputs": []
    },
    {
      "cell_type": "code",
      "source": [
        "print(df_title_Basics8.head())"
      ],
      "metadata": {
        "id": "PBuWpYWBpNj0"
      },
      "execution_count": null,
      "outputs": []
    },
    {
      "cell_type": "code",
      "source": [
        "# test = df_title_Basics8['genres'].str.split(',')\n",
        "df_title_Basics8['genres'] = df_title_Basics8['genres'].str.split(',')"
      ],
      "metadata": {
        "id": "Th1mrQjRU0Gq"
      },
      "execution_count": null,
      "outputs": []
    },
    {
      "cell_type": "code",
      "source": [
        "serie_explode = df_title_Basics8.genres.explode()"
      ],
      "metadata": {
        "id": "fsLOoPmOptrM"
      },
      "execution_count": null,
      "outputs": []
    },
    {
      "cell_type": "code",
      "source": [
        "print(serie_explode.value_counts())"
      ],
      "metadata": {
        "id": "MOU_zTrJqQsr"
      },
      "execution_count": null,
      "outputs": []
    },
    {
      "cell_type": "code",
      "source": [
        "print(df_title_Basics8.head())"
      ],
      "metadata": {
        "id": "ciIug4HBDVJm"
      },
      "execution_count": null,
      "outputs": []
    },
    {
      "cell_type": "code",
      "source": [
        "df_title_Basics8.to_csv('/content/drive/MyDrive/2209-Data/Projets/Projet2/RAM/En_cours/clean_data/alexis_title_basics_v3.csv', index=False)"
      ],
      "metadata": {
        "id": "TZeU9wsbqY60"
      },
      "execution_count": null,
      "outputs": []
    }
  ]
}